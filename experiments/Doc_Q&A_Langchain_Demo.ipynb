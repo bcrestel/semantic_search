{
 "cells": [
  {
   "cell_type": "markdown",
   "id": "ac0eb18f-b473-41d9-896c-55b7907a2a68",
   "metadata": {},
   "source": [
    "# Doc Q&A Demo\n",
    "This notebook contains an example of Doc Q&A, where a user can upload a document and ask questions about it. The pipeline will take the following steps:\n",
    "1. Load text documents\n",
    "2. Chunk the text\n",
    "3. Embed each chunk\n",
    "4. Index chunks and store in an in-memory vector database\n",
    "5. Retrieve relevant chunks given a user query\n",
    "\n",
    "The example is built with the langchain library.\n",
    "\n",
    "References: \n",
    "* https://python.langchain.com/docs/integrations/vectorstores/faiss/\n",
    "* https://huggingface.co/learn/cookbook/advanced_rag"
   ]
  },
  {
   "cell_type": "code",
   "execution_count": 1,
   "id": "0d555062-2407-4b72-b1b5-542809bf05f8",
   "metadata": {},
   "outputs": [],
   "source": [
    "from src.utils.text_overlap import find_overlap, find_overlap_chunks"
   ]
  },
  {
   "cell_type": "code",
   "execution_count": 2,
   "id": "c67962e2-bd9a-436f-8f98-bfc848a0e8c0",
   "metadata": {},
   "outputs": [],
   "source": [
    "from langchain_community.document_loaders import TextLoader\n",
    "from langchain_community.vectorstores import FAISS\n",
    "from langchain_text_splitters import CharacterTextSplitter\n",
    "from langchain_community.embeddings import HuggingFaceEmbeddings"
   ]
  },
  {
   "cell_type": "markdown",
   "id": "0122887e-8a66-4dcf-a8d8-9f3edda652d9",
   "metadata": {},
   "source": [
    "# Load text documents\n",
    "\n",
    "Using `TextLoader`to load a single text document (https://python.langchain.com/docs/modules/data_connection/document_loaders/).\n",
    "\n",
    "To load all files within a directory, use `DirectoryLoader` (https://python.langchain.com/docs/modules/data_connection/document_loaders/file_directory/)"
   ]
  },
  {
   "cell_type": "code",
   "execution_count": 4,
   "id": "6e42a4f8-ee99-4b5a-9c8e-c8dfe23de261",
   "metadata": {},
   "outputs": [],
   "source": [
    "document_path = \"docs/state_of_the_union.txt\"\n",
    "loader = TextLoader(document_path)\n",
    "document= loader.load()"
   ]
  },
  {
   "cell_type": "code",
   "execution_count": 4,
   "id": "b0f11a33-ed48-45d4-8eb6-f5fa3ddddf83",
   "metadata": {},
   "outputs": [
    {
     "name": "stdout",
     "output_type": "stream",
     "text": [
      "'document' is of type <class 'list'> and contains 1 elements\n",
      "The first element in 'document' is of type <class 'langchain_core.documents.base.Document'>\n"
     ]
    }
   ],
   "source": [
    "print(f\"'document' is of type {type(document)} and contains {len(document)} elements\")\n",
    "doc_0 = document[0]\n",
    "print(f\"The first element in 'document' is of type {type(doc_0)}\")"
   ]
  },
  {
   "cell_type": "code",
   "execution_count": 5,
   "id": "6042e241-429c-496c-86f9-6ce8f2469ac3",
   "metadata": {},
   "outputs": [
    {
     "name": "stdout",
     "output_type": "stream",
     "text": [
      "['Config', '__abstractmethods__', '__annotations__', '__class__', '__class_vars__', '__config__', '__custom_root_type__', '__delattr__', '__dict__', '__dir__', '__doc__', '__eq__', '__exclude_fields__', '__fields__', '__fields_set__', '__format__', '__ge__', '__get_validators__', '__getattribute__', '__getstate__', '__gt__', '__hash__', '__include_fields__', '__init__', '__init_subclass__', '__iter__', '__json_encoder__', '__le__', '__lt__', '__module__', '__ne__', '__new__', '__post_root_validators__', '__pre_root_validators__', '__pretty__', '__private_attributes__', '__reduce__', '__reduce_ex__', '__repr__', '__repr_args__', '__repr_name__', '__repr_str__', '__rich_repr__', '__schema_cache__', '__setattr__', '__setstate__', '__signature__', '__sizeof__', '__slots__', '__str__', '__subclasshook__', '__try_update_forward_refs__', '__validators__', '_abc_impl', '_calculate_keys', '_copy_and_set_values', '_decompose_class', '_enforce_dict_if_root', '_get_value', '_init_private_attributes', '_iter', '_lc_kwargs', 'construct', 'copy', 'dict', 'from_orm', 'get_lc_namespace', 'is_lc_serializable', 'json', 'lc_attributes', 'lc_id', 'lc_secrets', 'metadata', 'page_content', 'parse_file', 'parse_obj', 'parse_raw', 'schema', 'schema_json', 'to_json', 'to_json_not_implemented', 'type', 'update_forward_refs', 'validate']\n"
     ]
    }
   ],
   "source": [
    "# Attributes of doc_0:\n",
    "print(dir(doc_0))"
   ]
  },
  {
   "cell_type": "code",
   "execution_count": 6,
   "id": "de6d05f8-225b-4043-b45b-f6b7099806e4",
   "metadata": {},
   "outputs": [
    {
     "name": "stdout",
     "output_type": "stream",
     "text": [
      "<class 'str'>\n"
     ]
    },
    {
     "data": {
      "text/plain": [
       "'Madam Speaker, Madam Vice President, our First Lady and Second Gentleman. Members of Congress and the Cabinet. Justices of the Supreme Court. My fello'"
      ]
     },
     "execution_count": 6,
     "metadata": {},
     "output_type": "execute_result"
    }
   ],
   "source": [
    "# Can access the text of the document using the attribute 'page_content':\n",
    "print(type(doc_0.page_content))\n",
    "doc_0.page_content[:150]"
   ]
  },
  {
   "cell_type": "markdown",
   "id": "8ad5d16d-d0fb-4edf-a908-919fe899db4a",
   "metadata": {},
   "source": [
    "# Split the document\n",
    "\n",
    "We can start with the simplest text splitter, [CharacterTextSplitter](https://python.langchain.com/docs/modules/data_connection/document_transformers/character_text_splitter/), but LanghChain has more complex chunking strategy like the [Semantic Chunking](https://python.langchain.com/docs/modules/data_connection/document_transformers/semantic-chunker/)."
   ]
  },
  {
   "cell_type": "code",
   "execution_count": 43,
   "id": "84d43f12-abd9-446f-aa65-09a41e596496",
   "metadata": {},
   "outputs": [
    {
     "data": {
      "text/plain": [
       "\u001b[0;31mInit signature:\u001b[0m\n",
       "\u001b[0mCharacterTextSplitter\u001b[0m\u001b[0;34m(\u001b[0m\u001b[0;34m\u001b[0m\n",
       "\u001b[0;34m\u001b[0m    \u001b[0mseparator\u001b[0m\u001b[0;34m:\u001b[0m \u001b[0;34m'str'\u001b[0m \u001b[0;34m=\u001b[0m \u001b[0;34m'\\n\\n'\u001b[0m\u001b[0;34m,\u001b[0m\u001b[0;34m\u001b[0m\n",
       "\u001b[0;34m\u001b[0m    \u001b[0mis_separator_regex\u001b[0m\u001b[0;34m:\u001b[0m \u001b[0;34m'bool'\u001b[0m \u001b[0;34m=\u001b[0m \u001b[0;32mFalse\u001b[0m\u001b[0;34m,\u001b[0m\u001b[0;34m\u001b[0m\n",
       "\u001b[0;34m\u001b[0m    \u001b[0;34m**\u001b[0m\u001b[0mkwargs\u001b[0m\u001b[0;34m:\u001b[0m \u001b[0;34m'Any'\u001b[0m\u001b[0;34m,\u001b[0m\u001b[0;34m\u001b[0m\n",
       "\u001b[0;34m\u001b[0m\u001b[0;34m)\u001b[0m \u001b[0;34m->\u001b[0m \u001b[0;34m'None'\u001b[0m\u001b[0;34m\u001b[0m\u001b[0;34m\u001b[0m\u001b[0m\n",
       "\u001b[0;31mDocstring:\u001b[0m      Splitting text that looks at characters.\n",
       "\u001b[0;31mInit docstring:\u001b[0m Create a new TextSplitter.\n",
       "\u001b[0;31mFile:\u001b[0m           /usr/local/lib/python3.11/site-packages/langchain_text_splitters/character.py\n",
       "\u001b[0;31mType:\u001b[0m           ABCMeta\n",
       "\u001b[0;31mSubclasses:\u001b[0m     "
      ]
     },
     "metadata": {},
     "output_type": "display_data"
    }
   ],
   "source": [
    "CharacterTextSplitter?"
   ]
  },
  {
   "cell_type": "code",
   "execution_count": 44,
   "id": "a47cf3a4-a1dc-4d85-b7a8-9621dd1d0b27",
   "metadata": {},
   "outputs": [],
   "source": [
    "text_splitter = CharacterTextSplitter(chunk_size=500, chunk_overlap=200, add_start_index=True)\n",
    "docs = text_splitter.split_documents(document)"
   ]
  },
  {
   "cell_type": "code",
   "execution_count": 52,
   "id": "4d33c29e-37d9-4cca-87f9-4311b4e36799",
   "metadata": {},
   "outputs": [
    {
     "data": {
      "text/plain": [
       "2902"
      ]
     },
     "execution_count": 52,
     "metadata": {},
     "output_type": "execute_result"
    }
   ],
   "source": [
    "# metadata 'start_index' gives the start position of that chunk\n",
    "docs[10].metadata[\"start_index\"]"
   ]
  },
  {
   "cell_type": "code",
   "execution_count": 53,
   "id": "f30f2e72-a25b-44d3-98ee-8751d59af9e7",
   "metadata": {},
   "outputs": [
    {
     "name": "stdout",
     "output_type": "stream",
     "text": [
      "The text splitter returns a <class 'list'> of 125 elements, each element of type <class 'langchain_core.documents.base.Document'>\n"
     ]
    }
   ],
   "source": [
    "print(f\"The text splitter returns a {type(docs)} of {len(docs)} elements, each element of type {type(docs[0])}\")"
   ]
  },
  {
   "cell_type": "code",
   "execution_count": 54,
   "id": "f197b7ea-64db-4760-8a7e-74145b1a2bc3",
   "metadata": {},
   "outputs": [
    {
     "name": "stdout",
     "output_type": "stream",
     "text": [
      "[(150, 340), (152, 324), (138, 278), (100, 324), (89, 349), (178, 257), (186, 181), (176, 148), (111, 370), (123, 331), (115, 296), (112, 381), (154, 116), (0, -1), (181, 306), (140, 296), (160, 324), (144, 304), (145, 322), (150, 340), (169, 328), (132, 302), (0, -1), (102, 391), (172, 315), (97, 349), (140, 267), (184, 315), (193, 187), (0, -1), (82, 315), (122, 336), (107, 345), (83, 381), (113, 208), (43, 422), (92, 303), (137, 294), (174, 264), (142, 332), (81, 284), (169, 299), (163, 317), (115, 346), (78, 370), (197, 250), (176, 298), (110, 349), (181, 308), (187, 241), (165, 264), (122, 329), (108, 350), (147, 345), (94, 357), (0, -1), (0, -1), (91, 284), (89, 346), (199, 261), (90, 373), (187, 298), (199, 298), (176, 202), (75, 325), (141, 296), (173, 274), (170, 176), (101, 361), (180, 288), (117, 352), (196, 227), (122, 297), (59, 266), (105, 391), (165, 251), (109, 336), (127, 289), (114, 355), (153, 334), (196, 158), (81, 387), (157, 286), (138, 259), (129, 255), (145, 276), (40, 443), (180, 213), (126, 183), (0, -1), (177, 256), (48, 351), (141, 340), (0, -1), (138, 252), (0, -1), (106, 327), (131, 323), (146, 268), (179, 262), (113, 311), (175, 238), (176, 178), (176, 179), (0, -1), (136, 279), (136, 323), (122, 375), (181, 237), (161, 338), (176, 195), (191, 179), (129, 349), (118, 367), (139, 334), (199, 224), (108, 318), (187, 299), (144, 315), (102, 394), (82, 387), (120, 378), (164, 311), (150, 338)]\n"
     ]
    }
   ],
   "source": [
    "# Calculate and print by how many characters consecutive chunks overlap (length of overlap, index of start of overlap):\n",
    "print(find_overlap_chunks(docs, convert_any_to_str=lambda elt: elt.page_content))"
   ]
  },
  {
   "cell_type": "code",
   "execution_count": 55,
   "id": "abdd06de-c703-467c-892f-a1308aa7abe1",
   "metadata": {},
   "outputs": [
    {
     "name": "stdout",
     "output_type": "stream",
     "text": [
      " \n",
      "\n",
      "Tonight, we meet as Democrats Republicans and Independents. But most importantly as Americans. \n",
      "\n",
      "With a duty to one another to the American people to the Constitution. \n",
      "\n",
      "And with an unwavering resolve that freedom will always triumph over tyranny.\n"
     ]
    }
   ],
   "source": [
    "print(docs[0].page_content[-250:])"
   ]
  },
  {
   "cell_type": "code",
   "execution_count": 56,
   "id": "0e0e94c8-d313-41f8-8abf-66ec9e2166c1",
   "metadata": {},
   "outputs": [
    {
     "name": "stdout",
     "output_type": "stream",
     "text": [
      "With a duty to one another to the American people to the Constitution. \n",
      "\n",
      "And with an unwavering resolve that freedom will always triumph over tyranny. \n",
      "\n",
      "Six days ago, Russia’s Vladimir Putin sought to shake the foundations of the free world thinking \n"
     ]
    }
   ],
   "source": [
    "print(docs[1].page_content[:250])"
   ]
  },
  {
   "cell_type": "markdown",
   "id": "1c431ff2-9aaa-43c2-a652-44448d558416",
   "metadata": {},
   "source": [
    "# Embed each chunk\n",
    "We're going to use an open-source embedding model\n",
    "\n",
    "Ref: https://python.langchain.com/docs/integrations/text_embedding/huggingfacehub/"
   ]
  },
  {
   "cell_type": "code",
   "execution_count": 57,
   "id": "ab28b0f2-17cb-4658-ace7-bcb52290a459",
   "metadata": {},
   "outputs": [
    {
     "name": "stderr",
     "output_type": "stream",
     "text": [
      "/usr/local/lib/python3.11/site-packages/huggingface_hub/file_download.py:1132: FutureWarning: `resume_download` is deprecated and will be removed in version 1.0.0. Downloads always resume when possible. If you want to force a new download, use `force_download=True`.\n",
      "  warnings.warn(\n"
     ]
    }
   ],
   "source": [
    "embed_model_name = \"BAAI/bge-small-en-v1.5\" # https://huggingface.co/BAAI/bge-small-en-v1.5\n",
    "#embed_model_name = \"BAAI/bge-base-en-v1.5\" # larger dimension of the embedding space (768 vs 384)\n",
    "#embed_model_name = \"sentence-transformers/all-MiniLM-L6-v2\" # https://huggingface.co/sentence-transformers/all-MiniLM-L6-v2\n",
    "\n",
    "embed_model = HuggingFaceEmbeddings(model_name=embed_model_name)"
   ]
  },
  {
   "cell_type": "code",
   "execution_count": 60,
   "id": "b5a7ee5f-9850-400e-a00d-2042d6006d16",
   "metadata": {},
   "outputs": [
    {
     "name": "stdout",
     "output_type": "stream",
     "text": [
      "['Config', '__abstractmethods__', '__annotations__', '__class__', '__class_vars__', '__config__', '__custom_root_type__', '__delattr__', '__dict__', '__dir__', '__doc__', '__eq__', '__exclude_fields__', '__fields__', '__fields_set__', '__format__', '__ge__', '__get_validators__', '__getattribute__', '__getstate__', '__gt__', '__hash__', '__include_fields__', '__init__', '__init_subclass__', '__iter__', '__json_encoder__', '__le__', '__lt__', '__module__', '__ne__', '__new__', '__post_root_validators__', '__pre_root_validators__', '__pretty__', '__private_attributes__', '__reduce__', '__reduce_ex__', '__repr__', '__repr_args__', '__repr_name__', '__repr_str__', '__rich_repr__', '__schema_cache__', '__setattr__', '__setstate__', '__signature__', '__sizeof__', '__slots__', '__str__', '__subclasshook__', '__try_update_forward_refs__', '__validators__', '__weakref__', '_abc_impl', '_calculate_keys', '_copy_and_set_values', '_decompose_class', '_enforce_dict_if_root', '_get_value', '_init_private_attributes', '_iter', 'aembed_documents', 'aembed_query', 'cache_folder', 'client', 'construct', 'copy', 'dict', 'embed_documents', 'embed_query', 'encode_kwargs', 'from_orm', 'json', 'model_kwargs', 'model_name', 'multi_process', 'parse_file', 'parse_obj', 'parse_raw', 'schema', 'schema_json', 'show_progress', 'update_forward_refs', 'validate']\n"
     ]
    }
   ],
   "source": [
    "print(dir(embed_model))"
   ]
  },
  {
   "cell_type": "code",
   "execution_count": 58,
   "id": "880e5512-ec62-4d9e-9819-0bf8de188bbe",
   "metadata": {},
   "outputs": [],
   "source": [
    "vector_db = FAISS.from_documents(docs, embed_model)"
   ]
  },
  {
   "cell_type": "code",
   "execution_count": 30,
   "id": "7afef225-27f3-429b-97a7-a37d8e85edd0",
   "metadata": {},
   "outputs": [
    {
     "name": "stdout",
     "output_type": "stream",
     "text": [
      "125 125\n"
     ]
    }
   ],
   "source": [
    "print(vector_db.index.ntotal, len(docs))"
   ]
  },
  {
   "cell_type": "code",
   "execution_count": 31,
   "id": "a053b55c-01fa-43ee-971f-39f5a02f4f53",
   "metadata": {},
   "outputs": [
    {
     "name": "stdout",
     "output_type": "stream",
     "text": [
      "['_FAISS__add', '_FAISS__from', '__abstractmethods__', '__class__', '__delattr__', '__dict__', '__dir__', '__doc__', '__eq__', '__format__', '__ge__', '__getattribute__', '__getstate__', '__gt__', '__hash__', '__init__', '__init_subclass__', '__le__', '__lt__', '__module__', '__ne__', '__new__', '__reduce__', '__reduce_ex__', '__repr__', '__setattr__', '__sizeof__', '__slots__', '__str__', '__subclasshook__', '__weakref__', '_abc_impl', '_aembed_documents', '_aembed_query', '_asimilarity_search_with_relevance_scores', '_cosine_relevance_score_fn', '_create_filter_func', '_embed_documents', '_embed_query', '_euclidean_relevance_score_fn', '_get_retriever_tags', '_max_inner_product_relevance_score_fn', '_normalize_L2', '_select_relevance_score_fn', '_similarity_search_with_relevance_scores', 'aadd_documents', 'aadd_texts', 'add_documents', 'add_embeddings', 'add_texts', 'adelete', 'afrom_documents', 'afrom_embeddings', 'afrom_texts', 'amax_marginal_relevance_search', 'amax_marginal_relevance_search_by_vector', 'amax_marginal_relevance_search_with_score_by_vector', 'as_retriever', 'asearch', 'asimilarity_search', 'asimilarity_search_by_vector', 'asimilarity_search_with_relevance_scores', 'asimilarity_search_with_score', 'asimilarity_search_with_score_by_vector', 'delete', 'deserialize_from_bytes', 'distance_strategy', 'docstore', 'embedding_function', 'embeddings', 'from_documents', 'from_embeddings', 'from_texts', 'index', 'index_to_docstore_id', 'load_local', 'max_marginal_relevance_search', 'max_marginal_relevance_search_by_vector', 'max_marginal_relevance_search_with_score_by_vector', 'merge_from', 'override_relevance_score_fn', 'save_local', 'search', 'serialize_to_bytes', 'similarity_search', 'similarity_search_by_vector', 'similarity_search_with_relevance_scores', 'similarity_search_with_score', 'similarity_search_with_score_by_vector']\n"
     ]
    }
   ],
   "source": [
    "print(dir(vector_db))"
   ]
  },
  {
   "cell_type": "code",
   "execution_count": 32,
   "id": "432742eb-a83d-41df-86c5-3327e55dd7ac",
   "metadata": {},
   "outputs": [
    {
     "name": "stdout",
     "output_type": "stream",
     "text": [
      "['__class__', '__delattr__', '__dict__', '__dir__', '__doc__', '__eq__', '__format__', '__ge__', '__getattribute__', '__getstate__', '__gt__', '__hash__', '__init__', '__init_subclass__', '__le__', '__lt__', '__module__', '__ne__', '__new__', '__reduce__', '__reduce_ex__', '__repr__', '__setattr__', '__setstate__', '__sizeof__', '__str__', '__subclasshook__', '__swig_destroy__', '__weakref__', 'add', 'add_c', 'add_with_ids', 'add_with_ids_c', 'assign', 'assign_c', 'cached_l2norms', 'check_compatible_for_merge', 'clear_l2norms', 'code_size', 'codes', 'compute_distance_subset', 'compute_residual', 'compute_residual_n', 'd', 'get_CodePacker', 'get_FlatCodesDistanceComputer', 'get_distance_computer', 'get_xb', 'is_trained', 'merge_from', 'metric_arg', 'metric_type', 'ntotal', 'permute_entries', 'permute_entries_c', 'range_search', 'range_search_c', 'reconstruct', 'reconstruct_batch', 'reconstruct_batch_c', 'reconstruct_c', 'reconstruct_n', 'reconstruct_n_c', 'remove_ids', 'remove_ids_c', 'reset', 'sa_code_size', 'sa_decode', 'sa_decode_c', 'sa_encode', 'sa_encode_c', 'search', 'search_and_reconstruct', 'search_and_reconstruct_c', 'search_c', 'sync_l2norms', 'this', 'thisown', 'train', 'train_c', 'verbose']\n"
     ]
    }
   ],
   "source": [
    "print(dir(vector_db.index))"
   ]
  },
  {
   "cell_type": "markdown",
   "id": "78208036-a2b2-4592-aa3a-b6ab6da318ca",
   "metadata": {},
   "source": [
    "# Similarity search for a user query"
   ]
  },
  {
   "cell_type": "code",
   "execution_count": 33,
   "id": "7e9ccf70-fe95-40b7-a9d7-0e5823e37889",
   "metadata": {},
   "outputs": [
    {
     "data": {
      "text/plain": [
       "\u001b[0;31mSignature:\u001b[0m\n",
       "\u001b[0mvector_db\u001b[0m\u001b[0;34m.\u001b[0m\u001b[0msimilarity_search\u001b[0m\u001b[0;34m(\u001b[0m\u001b[0;34m\u001b[0m\n",
       "\u001b[0;34m\u001b[0m    \u001b[0mquery\u001b[0m\u001b[0;34m:\u001b[0m \u001b[0;34m'str'\u001b[0m\u001b[0;34m,\u001b[0m\u001b[0;34m\u001b[0m\n",
       "\u001b[0;34m\u001b[0m    \u001b[0mk\u001b[0m\u001b[0;34m:\u001b[0m \u001b[0;34m'int'\u001b[0m \u001b[0;34m=\u001b[0m \u001b[0;36m4\u001b[0m\u001b[0;34m,\u001b[0m\u001b[0;34m\u001b[0m\n",
       "\u001b[0;34m\u001b[0m    \u001b[0mfilter\u001b[0m\u001b[0;34m:\u001b[0m \u001b[0;34m'Optional[Union[Callable, Dict[str, Any]]]'\u001b[0m \u001b[0;34m=\u001b[0m \u001b[0;32mNone\u001b[0m\u001b[0;34m,\u001b[0m\u001b[0;34m\u001b[0m\n",
       "\u001b[0;34m\u001b[0m    \u001b[0mfetch_k\u001b[0m\u001b[0;34m:\u001b[0m \u001b[0;34m'int'\u001b[0m \u001b[0;34m=\u001b[0m \u001b[0;36m20\u001b[0m\u001b[0;34m,\u001b[0m\u001b[0;34m\u001b[0m\n",
       "\u001b[0;34m\u001b[0m    \u001b[0;34m**\u001b[0m\u001b[0mkwargs\u001b[0m\u001b[0;34m:\u001b[0m \u001b[0;34m'Any'\u001b[0m\u001b[0;34m,\u001b[0m\u001b[0;34m\u001b[0m\n",
       "\u001b[0;34m\u001b[0m\u001b[0;34m)\u001b[0m \u001b[0;34m->\u001b[0m \u001b[0;34m'List[Document]'\u001b[0m\u001b[0;34m\u001b[0m\u001b[0;34m\u001b[0m\u001b[0m\n",
       "\u001b[0;31mDocstring:\u001b[0m\n",
       "Return docs most similar to query.\n",
       "\n",
       "Args:\n",
       "    query: Text to look up documents similar to.\n",
       "    k: Number of Documents to return. Defaults to 4.\n",
       "    filter: (Optional[Dict[str, str]]): Filter by metadata. Defaults to None.\n",
       "    fetch_k: (Optional[int]) Number of Documents to fetch before filtering.\n",
       "              Defaults to 20.\n",
       "\n",
       "Returns:\n",
       "    List of Documents most similar to the query.\n",
       "\u001b[0;31mFile:\u001b[0m      /usr/local/lib/python3.11/site-packages/langchain_community/vectorstores/faiss.py\n",
       "\u001b[0;31mType:\u001b[0m      method"
      ]
     },
     "metadata": {},
     "output_type": "display_data"
    }
   ],
   "source": [
    "vector_db.similarity_search?"
   ]
  },
  {
   "cell_type": "code",
   "execution_count": 34,
   "id": "2ad41fc0-fbae-4291-af28-76027a4bfdec",
   "metadata": {},
   "outputs": [],
   "source": [
    "query = \"By how much will the deficit be down by the end of this year?\"\n",
    "nb_docs_retrieved = 5\n",
    "documents_retrieved = vector_db.similarity_search(query, k=nb_docs_retrieved)"
   ]
  },
  {
   "cell_type": "code",
   "execution_count": 37,
   "id": "f58538ff-b7f1-4ce7-adb4-57d933e080cd",
   "metadata": {},
   "outputs": [
    {
     "name": "stdout",
     "output_type": "stream",
     "text": [
      "Document #1:\n",
      "Good answer\n",
      "Document #2:\n",
      "Document #3:\n",
      "Document #4:\n",
      "Good answer\n",
      "Document #5:\n"
     ]
    }
   ],
   "source": [
    "# Check answers\n",
    "relevant_sentence_from_original_text = \"the deficit will be down to less than half what it was before I took office\"\n",
    "for rank, doc in enumerate(documents_retrieved):\n",
    "    print(f\"Document #{rank+1}:\")\n",
    "    #print(doc)\n",
    "    if relevant_sentence_from_original_text in doc.page_content:\n",
    "        print(\"Good answer\")"
   ]
  },
  {
   "cell_type": "code",
   "execution_count": 38,
   "id": "452ac256-db2f-4c2a-b4c3-ce71b3cbebb2",
   "metadata": {},
   "outputs": [
    {
     "data": {
      "text/plain": [
       "Document(page_content='By the end of this year, the deficit will be down to less than half what it was before I took office.  \\n\\nThe only president ever to cut the deficit by more than one trillion dollars in a single year. \\n\\nLowering your costs also means demanding more competition. \\n\\nI’m a capitalist, but capitalism without competition isn’t capitalism. \\n\\nIt’s exploitation—and it drives up prices.', metadata={'source': 'docs/state_of_the_union.txt'})"
      ]
     },
     "execution_count": 38,
     "metadata": {},
     "output_type": "execute_result"
    }
   ],
   "source": [
    "documents_retrieved[0]"
   ]
  },
  {
   "cell_type": "code",
   "execution_count": 41,
   "id": "f15602b5-af95-44ef-a647-7441d5a99f44",
   "metadata": {},
   "outputs": [
    {
     "data": {
      "text/plain": [
       "Document(page_content='But in my administration, the watchdogs have been welcomed back. \\n\\nWe’re going after the criminals who stole billions in relief money meant for small businesses and millions of Americans.  \\n\\nAnd tonight, I’m announcing that the Justice Department will name a chief prosecutor for pandemic fraud. \\n\\nBy the end of this year, the deficit will be down to less than half what it was before I took office.  \\n\\nThe only president ever to cut the deficit by more than one trillion dollars in a single year.', metadata={'source': 'docs/state_of_the_union.txt'})"
      ]
     },
     "execution_count": 41,
     "metadata": {},
     "output_type": "execute_result"
    }
   ],
   "source": [
    "documents_retrieved[3]"
   ]
  },
  {
   "cell_type": "code",
   "execution_count": null,
   "id": "a9896459-e74d-4aa5-8373-6845a61c5c7e",
   "metadata": {},
   "outputs": [],
   "source": []
  }
 ],
 "metadata": {
  "kernelspec": {
   "display_name": "Python 3 (ipykernel)",
   "language": "python",
   "name": "python3"
  },
  "language_info": {
   "codemirror_mode": {
    "name": "ipython",
    "version": 3
   },
   "file_extension": ".py",
   "mimetype": "text/x-python",
   "name": "python",
   "nbconvert_exporter": "python",
   "pygments_lexer": "ipython3",
   "version": "3.11.9"
  }
 },
 "nbformat": 4,
 "nbformat_minor": 5
}
