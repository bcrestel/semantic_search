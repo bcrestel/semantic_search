{
 "cells": [
  {
   "cell_type": "markdown",
   "id": "ac0eb18f-b473-41d9-896c-55b7907a2a68",
   "metadata": {},
   "source": [
    "# Doc Q&A Demo\n",
    "This notebook contains an example of Doc Q&A, where a user can upload a document and ask questions about it. The pipeline will take the following steps:\n",
    "1. Load text documents\n",
    "2. Chunk the text\n",
    "3. Embed each chunk\n",
    "4. Index chunks and store in an in-memory vector database\n",
    "5. Retrieve relevant chunks given a user query\n",
    "\n",
    "The example is built with the langchain library.\n",
    "\n",
    "References: \n",
    "* https://python.langchain.com/docs/integrations/vectorstores/faiss/\n",
    "* https://huggingface.co/learn/cookbook/advanced_rag"
   ]
  },
  {
   "cell_type": "code",
   "execution_count": 1,
   "id": "c67962e2-bd9a-436f-8f98-bfc848a0e8c0",
   "metadata": {},
   "outputs": [],
   "source": [
    "from langchain_community.document_loaders import TextLoader\n",
    "from langchain_community.vectorstores import FAISS\n",
    "from langchain_text_splitters import CharacterTextSplitter"
   ]
  },
  {
   "cell_type": "markdown",
   "id": "0122887e-8a66-4dcf-a8d8-9f3edda652d9",
   "metadata": {},
   "source": [
    "# Load text documents\n",
    "\n",
    "Using `TextLoader`to load a single text document (https://python.langchain.com/docs/modules/data_connection/document_loaders/).\n",
    "\n",
    "To load all files within a directory, use `DirectoryLoader` (https://python.langchain.com/docs/modules/data_connection/document_loaders/file_directory/)"
   ]
  },
  {
   "cell_type": "code",
   "execution_count": 17,
   "id": "6e42a4f8-ee99-4b5a-9c8e-c8dfe23de261",
   "metadata": {},
   "outputs": [],
   "source": [
    "document_path = \"docs/state_of_the_union.txt\"\n",
    "loader = TextLoader(document_path)\n",
    "document= loader.load()"
   ]
  },
  {
   "cell_type": "code",
   "execution_count": 21,
   "id": "b0f11a33-ed48-45d4-8eb6-f5fa3ddddf83",
   "metadata": {},
   "outputs": [
    {
     "name": "stdout",
     "output_type": "stream",
     "text": [
      "<class 'list'> 1\n",
      "<class 'langchain_core.documents.base.Document'>\n"
     ]
    }
   ],
   "source": [
    "print(type(document), len(document))\n",
    "doc_0 = document[0]\n",
    "print(type(doc_0))"
   ]
  },
  {
   "cell_type": "code",
   "execution_count": 23,
   "id": "6042e241-429c-496c-86f9-6ce8f2469ac3",
   "metadata": {},
   "outputs": [
    {
     "name": "stdout",
     "output_type": "stream",
     "text": [
      "['Config', '__abstractmethods__', '__annotations__', '__class__', '__class_vars__', '__config__', '__custom_root_type__', '__delattr__', '__dict__', '__dir__', '__doc__', '__eq__', '__exclude_fields__', '__fields__', '__fields_set__', '__format__', '__ge__', '__get_validators__', '__getattribute__', '__getstate__', '__gt__', '__hash__', '__include_fields__', '__init__', '__init_subclass__', '__iter__', '__json_encoder__', '__le__', '__lt__', '__module__', '__ne__', '__new__', '__post_root_validators__', '__pre_root_validators__', '__pretty__', '__private_attributes__', '__reduce__', '__reduce_ex__', '__repr__', '__repr_args__', '__repr_name__', '__repr_str__', '__rich_repr__', '__schema_cache__', '__setattr__', '__setstate__', '__signature__', '__sizeof__', '__slots__', '__str__', '__subclasshook__', '__try_update_forward_refs__', '__validators__', '_abc_impl', '_calculate_keys', '_copy_and_set_values', '_decompose_class', '_enforce_dict_if_root', '_get_value', '_init_private_attributes', '_iter', '_lc_kwargs', 'construct', 'copy', 'dict', 'from_orm', 'get_lc_namespace', 'is_lc_serializable', 'json', 'lc_attributes', 'lc_id', 'lc_secrets', 'metadata', 'page_content', 'parse_file', 'parse_obj', 'parse_raw', 'schema', 'schema_json', 'to_json', 'to_json_not_implemented', 'type', 'update_forward_refs', 'validate']\n"
     ]
    }
   ],
   "source": [
    "print(dir(doc_0))"
   ]
  },
  {
   "cell_type": "code",
   "execution_count": 28,
   "id": "de6d05f8-225b-4043-b45b-f6b7099806e4",
   "metadata": {},
   "outputs": [
    {
     "name": "stdout",
     "output_type": "stream",
     "text": [
      "<class 'str'>\n"
     ]
    },
    {
     "data": {
      "text/plain": [
       "'Madam Speaker, Madam Vice President, our First Lady and Second Gentleman. Members of Congress and the Cabinet. Justices of the Supreme Court. My fello'"
      ]
     },
     "execution_count": 28,
     "metadata": {},
     "output_type": "execute_result"
    }
   ],
   "source": [
    "print(type(doc_0.page_content))\n",
    "doc_0.page_content[:150]"
   ]
  },
  {
   "cell_type": "markdown",
   "id": "8ad5d16d-d0fb-4edf-a908-919fe899db4a",
   "metadata": {},
   "source": [
    "# Split the document\n",
    "\n"
   ]
  },
  {
   "cell_type": "code",
   "execution_count": 29,
   "id": "a47cf3a4-a1dc-4d85-b7a8-9621dd1d0b27",
   "metadata": {},
   "outputs": [],
   "source": [
    "text_splitter = CharacterTextSplitter(chunk_size=1000, chunk_overlap=0)\n",
    "docs = text_splitter.split_documents(document)"
   ]
  },
  {
   "cell_type": "code",
   "execution_count": 32,
   "id": "f30f2e72-a25b-44d3-98ee-8751d59af9e7",
   "metadata": {},
   "outputs": [
    {
     "data": {
      "text/plain": [
       "(list, 42)"
      ]
     },
     "execution_count": 32,
     "metadata": {},
     "output_type": "execute_result"
    }
   ],
   "source": [
    "type(docs), len(docs)"
   ]
  },
  {
   "cell_type": "code",
   "execution_count": null,
   "id": "f197b7ea-64db-4760-8a7e-74145b1a2bc3",
   "metadata": {},
   "outputs": [],
   "source": []
  },
  {
   "cell_type": "code",
   "execution_count": null,
   "id": "abdd06de-c703-467c-892f-a1308aa7abe1",
   "metadata": {},
   "outputs": [],
   "source": []
  },
  {
   "cell_type": "code",
   "execution_count": null,
   "id": "7afef225-27f3-429b-97a7-a37d8e85edd0",
   "metadata": {},
   "outputs": [],
   "source": [
    "\n",
    "\n",
    "\n",
    "#embeddings = OpenAIEmbeddings()\n",
    "#db = FAISS.from_documents(docs, embeddings)\n",
    "#print(db.index.ntotal)"
   ]
  }
 ],
 "metadata": {
  "kernelspec": {
   "display_name": "Python 3 (ipykernel)",
   "language": "python",
   "name": "python3"
  },
  "language_info": {
   "codemirror_mode": {
    "name": "ipython",
    "version": 3
   },
   "file_extension": ".py",
   "mimetype": "text/x-python",
   "name": "python",
   "nbconvert_exporter": "python",
   "pygments_lexer": "ipython3",
   "version": "3.11.3"
  }
 },
 "nbformat": 4,
 "nbformat_minor": 5
}
