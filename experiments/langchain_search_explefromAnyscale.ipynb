{
 "cells": [
  {
   "cell_type": "markdown",
   "id": "a27460c1-9cb1-439f-af62-a4de7190646b",
   "metadata": {},
   "source": [
    "# Preamble"
   ]
  },
  {
   "cell_type": "markdown",
   "id": "38dc6e56-ba1e-4eeb-be1f-0b2d7749eb30",
   "metadata": {},
   "source": [
    "Source: https://gist.github.com/waleedkadous/d06097768abbea54d59e5d3ed4f045f3\n",
    "text loading modified according to https://python.langchain.com/en/latest/use_cases/question_answering.html"
   ]
  },
  {
   "cell_type": "code",
   "execution_count": 1,
   "id": "c17e9135-8394-43d2-bd33-5eb6b8ef2666",
   "metadata": {
    "tags": []
   },
   "outputs": [],
   "source": [
    "import matplotlib.pyplot as plt\n",
    "import numpy as np\n",
    "\n",
    "from langchain.document_loaders import TextLoader\n",
    "from langchain.text_splitter import RecursiveCharacterTextSplitter\n",
    "from langchain.embeddings import HuggingFaceEmbeddings\n",
    "from langchain.vectorstores import FAISS, Chroma"
   ]
  },
  {
   "cell_type": "code",
   "execution_count": 2,
   "id": "32e865ba-8c65-46ae-9d01-f54a5dad9b81",
   "metadata": {
    "tags": []
   },
   "outputs": [
    {
     "name": "stdout",
     "output_type": "stream",
     "text": [
      "0.0.149\n"
     ]
    }
   ],
   "source": [
    "import langchain\n",
    "print(langchain.__version__)"
   ]
  },
  {
   "cell_type": "markdown",
   "id": "21f04fa8-926d-4d42-a1ab-550c74128c4d",
   "metadata": {},
   "source": [
    "# Load document(s)"
   ]
  },
  {
   "cell_type": "code",
   "execution_count": 3,
   "id": "c8012292-280e-431d-8ee6-4c018debacdf",
   "metadata": {
    "tags": []
   },
   "outputs": [],
   "source": [
    "loader = TextLoader('docs/state_of_the_union.txt', encoding='utf8')"
   ]
  },
  {
   "cell_type": "code",
   "execution_count": 4,
   "id": "2bc2f681-cb1a-4ce7-881e-07e233a883fe",
   "metadata": {
    "tags": []
   },
   "outputs": [],
   "source": [
    "loaded_text = loader.load()"
   ]
  },
  {
   "cell_type": "code",
   "execution_count": 5,
   "id": "20d79551-fdab-445c-a682-0513374c288b",
   "metadata": {
    "tags": []
   },
   "outputs": [
    {
     "data": {
      "text/plain": [
       "(list, 1, langchain.schema.Document)"
      ]
     },
     "execution_count": 5,
     "metadata": {},
     "output_type": "execute_result"
    }
   ],
   "source": [
    "type(loaded_text), len(loaded_text), type(loaded_text[0])"
   ]
  },
  {
   "cell_type": "markdown",
   "id": "5c1733b5-66ab-4e44-8bd5-d9d63d7cde80",
   "metadata": {},
   "source": [
    "## Look at a single document in LangChain format"
   ]
  },
  {
   "cell_type": "code",
   "execution_count": 6,
   "id": "d297e1e6-0178-4e1c-af59-6adc13458b70",
   "metadata": {
    "tags": []
   },
   "outputs": [
    {
     "data": {
      "text/plain": [
       "langchain.schema.Document"
      ]
     },
     "execution_count": 6,
     "metadata": {},
     "output_type": "execute_result"
    }
   ],
   "source": [
    "text = loaded_text[0]\n",
    "type(text)"
   ]
  },
  {
   "cell_type": "code",
   "execution_count": 7,
   "id": "347b67ed-f063-4c91-95b0-f391fb400847",
   "metadata": {
    "tags": []
   },
   "outputs": [
    {
     "data": {
      "text/plain": [
       "({'source': 'docs/state_of_the_union.txt'},\n",
       " dict_keys(['page_content', 'metadata']),\n",
       " str)"
      ]
     },
     "execution_count": 7,
     "metadata": {},
     "output_type": "execute_result"
    }
   ],
   "source": [
    "text.metadata, text.dict().keys(), type(text.page_content)"
   ]
  },
  {
   "cell_type": "code",
   "execution_count": 8,
   "id": "d43b23cb-a7c7-43d2-9f9b-e2916e958208",
   "metadata": {
    "tags": []
   },
   "outputs": [
    {
     "data": {
      "text/plain": [
       "'Madam Speaker, Madam Vice President, our First Lady and Second Gentleman. Members of Congress and th'"
      ]
     },
     "execution_count": 8,
     "metadata": {},
     "output_type": "execute_result"
    }
   ],
   "source": [
    "text.page_content[:100]"
   ]
  },
  {
   "cell_type": "markdown",
   "id": "d19e5185-450c-450e-8859-1bcfdc17ae3f",
   "metadata": {
    "tags": []
   },
   "source": [
    "# Chunk text"
   ]
  },
  {
   "cell_type": "markdown",
   "id": "12f16e18-4767-49ee-89be-223b0c6e7994",
   "metadata": {},
   "source": [
    "We use RecursiveCharacterTextSplitter. It goes over the text and split into chunks according to a certain list of characters: `[\"\\n\\n\", \"\\n\", \" \", \"\"]`\n",
    "You define a `chunk_size` which is the maximum size allowed for a chunk. Then that class will split the text trying the list of characters until all chunks fall below that threshold.\n",
    "I'm not sure what the chunk overlap does as I haven't seen any overlap in the chunks so far\n",
    "\n",
    "\n",
    "Ref: https://python.langchain.com/en/latest/modules/indexes/text_splitters/examples/recursive_text_splitter.html\n",
    "\n",
    "https://github.com/hwchase17/langchain/blob/master/langchain/text_splitter.py#L268"
   ]
  },
  {
   "cell_type": "code",
   "execution_count": 9,
   "id": "5f591a4a-c72a-4e38-9dce-d1f029214492",
   "metadata": {
    "tags": []
   },
   "outputs": [
    {
     "data": {
      "text/plain": [
       "\u001b[0;31mInit signature:\u001b[0m\n",
       "\u001b[0mRecursiveCharacterTextSplitter\u001b[0m\u001b[0;34m(\u001b[0m\u001b[0;34m\u001b[0m\n",
       "\u001b[0;34m\u001b[0m    \u001b[0mseparators\u001b[0m\u001b[0;34m:\u001b[0m \u001b[0;34m'Optional[List[str]]'\u001b[0m \u001b[0;34m=\u001b[0m \u001b[0;32mNone\u001b[0m\u001b[0;34m,\u001b[0m\u001b[0;34m\u001b[0m\n",
       "\u001b[0;34m\u001b[0m    \u001b[0;34m**\u001b[0m\u001b[0mkwargs\u001b[0m\u001b[0;34m:\u001b[0m \u001b[0;34m'Any'\u001b[0m\u001b[0;34m,\u001b[0m\u001b[0;34m\u001b[0m\n",
       "\u001b[0;34m\u001b[0m\u001b[0;34m)\u001b[0m\u001b[0;34m\u001b[0m\u001b[0;34m\u001b[0m\u001b[0m\n",
       "\u001b[0;31mDocstring:\u001b[0m     \n",
       "Implementation of splitting text that looks at characters.\n",
       "\n",
       "Recursively tries to split by different characters to find one\n",
       "that works.\n",
       "\u001b[0;31mInit docstring:\u001b[0m Create a new TextSplitter.\n",
       "\u001b[0;31mFile:\u001b[0m           /usr/local/lib/python3.11/site-packages/langchain/text_splitter.py\n",
       "\u001b[0;31mType:\u001b[0m           ABCMeta\n",
       "\u001b[0;31mSubclasses:\u001b[0m     MarkdownTextSplitter, LatexTextSplitter, PythonCodeTextSplitter"
      ]
     },
     "metadata": {},
     "output_type": "display_data"
    }
   ],
   "source": [
    "RecursiveCharacterTextSplitter?"
   ]
  },
  {
   "cell_type": "code",
   "execution_count": 10,
   "id": "bcda7c9d-2848-4524-994a-4efc5db511d3",
   "metadata": {
    "tags": []
   },
   "outputs": [],
   "source": [
    "# The default chunk_overlap is set to 200. Using this increases the smallest \n",
    "# chunk length from ~50 to ~100. \n",
    "# I'm not 100% clear on what chunk_overlap does but it is used \n",
    "# in the _merge_splits method that combines smaller pieces\n",
    "text_splitter = RecursiveCharacterTextSplitter(\n",
    "    chunk_size = 300,\n",
    "    #separators = [\" \"],\n",
    "    #chunk_overlap  = 20,\n",
    "    length_function = len,\n",
    ")"
   ]
  },
  {
   "cell_type": "code",
   "execution_count": 11,
   "id": "2ecefd80-e1d1-4068-9dbb-7a4399ce3e94",
   "metadata": {
    "tags": []
   },
   "outputs": [
    {
     "data": {
      "text/plain": [
       "{'_chunk_size': 300,\n",
       " '_chunk_overlap': 200,\n",
       " '_length_function': <function len(obj, /)>,\n",
       " '_separators': ['\\n\\n', '\\n', ' ', '']}"
      ]
     },
     "execution_count": 11,
     "metadata": {},
     "output_type": "execute_result"
    }
   ],
   "source": [
    "text_splitter.__dict__"
   ]
  },
  {
   "cell_type": "code",
   "execution_count": 12,
   "id": "11ee6dd8-396c-456b-a137-c6abd687ac63",
   "metadata": {
    "tags": []
   },
   "outputs": [
    {
     "data": {
      "text/plain": [
       "(list, 260)"
      ]
     },
     "execution_count": 12,
     "metadata": {},
     "output_type": "execute_result"
    }
   ],
   "source": [
    "chunks = text_splitter.create_documents([text.page_content])\n",
    "type(chunks), len(chunks)"
   ]
  },
  {
   "cell_type": "code",
   "execution_count": 13,
   "id": "24346df3-8811-4af3-9c3b-a2d45095457b",
   "metadata": {
    "tags": []
   },
   "outputs": [
    {
     "data": {
      "text/plain": [
       "Document(page_content='Madam Speaker, Madam Vice President, our First Lady and Second Gentleman. Members of Congress and the Cabinet. Justices of the Supreme Court. My fellow Americans.  \\n\\nLast year COVID-19 kept us apart. This year we are finally together again.', metadata={})"
      ]
     },
     "execution_count": 13,
     "metadata": {},
     "output_type": "execute_result"
    }
   ],
   "source": [
    "chunks[0]"
   ]
  },
  {
   "cell_type": "code",
   "execution_count": 14,
   "id": "9aa7412e-4bb2-4dd4-a959-0a2bfe87818f",
   "metadata": {
    "tags": []
   },
   "outputs": [
    {
     "data": {
      "text/plain": [
       "(list, 260)"
      ]
     },
     "execution_count": 14,
     "metadata": {},
     "output_type": "execute_result"
    }
   ],
   "source": [
    "chunk_of_text = text_splitter.split_text(text.page_content)\n",
    "type(chunk_of_text), len(chunk_of_text)"
   ]
  },
  {
   "cell_type": "code",
   "execution_count": 15,
   "id": "2e6758c4-c6bf-4855-b768-f4823e345c72",
   "metadata": {
    "tags": []
   },
   "outputs": [
    {
     "data": {
      "text/plain": [
       "'Madam Speaker, Madam Vice President, our First Lady and Second Gentleman. Members of Congress and the Cabinet. Justices of the Supreme Court. My fellow Americans.  \\n\\nLast year COVID-19 kept us apart. This year we are finally together again.'"
      ]
     },
     "execution_count": 15,
     "metadata": {},
     "output_type": "execute_result"
    }
   ],
   "source": [
    "chunk_of_text[0]"
   ]
  },
  {
   "cell_type": "code",
   "execution_count": 16,
   "id": "ae25a336-d025-4899-a17b-da8f16e3eafc",
   "metadata": {
    "tags": []
   },
   "outputs": [
    {
     "data": {
      "text/plain": [
       "(38539, 148)"
      ]
     },
     "execution_count": 16,
     "metadata": {},
     "output_type": "execute_result"
    }
   ],
   "source": [
    "len(text.page_content), len(text.page_content)//(300-40)"
   ]
  },
  {
   "cell_type": "code",
   "execution_count": 17,
   "id": "e314978a-c9a4-4267-a15d-0fc5cf8e5308",
   "metadata": {
    "tags": []
   },
   "outputs": [
    {
     "data": {
      "image/png": "[encoded data removed]",
      "text/plain": [
       "<Figure size 640x480 with 1 Axes>"
      ]
     },
     "metadata": {},
     "output_type": "display_data"
    }
   ],
   "source": [
    "# histogram of the chunk lenghts\n",
    "len_chunks = np.array([len(chunk) for chunk in chunk_of_text])\n",
    "plt.hist(len_chunks, bins=20);"
   ]
  },
  {
   "cell_type": "code",
   "execution_count": 18,
   "id": "e9acfb46-be57-4f3f-9a5b-7f7bc788782e",
   "metadata": {
    "tags": []
   },
   "outputs": [
    {
     "data": {
      "text/plain": [
       "[<matplotlib.lines.Line2D at 0x7f44d7adad50>]"
      ]
     },
     "execution_count": 18,
     "metadata": {},
     "output_type": "execute_result"
    },
    {
     "data": {
      "image/png": "[encoded data removed]",
      "text/plain": [
       "<Figure size 640x480 with 1 Axes>"
      ]
     },
     "metadata": {},
     "output_type": "display_data"
    }
   ],
   "source": [
    "plt.plot(len_chunks, '.')"
   ]
  },
  {
   "cell_type": "code",
   "execution_count": 19,
   "id": "434b8c68-4d26-463d-b847-036d6448a4e0",
   "metadata": {
    "tags": []
   },
   "outputs": [
    {
     "name": "stdout",
     "output_type": "stream",
     "text": [
      "idx=113, len=94\n"
     ]
    }
   ],
   "source": [
    "idx_min_len_chunk = np.argmin(len_chunks)\n",
    "print(f\"idx={idx_min_len_chunk}, len={len(chunk_of_text[idx_min_len_chunk])}\")"
   ]
  },
  {
   "cell_type": "code",
   "execution_count": 20,
   "id": "b5bfe906-10cb-48c0-9905-ed823edfba9b",
   "metadata": {
    "tags": []
   },
   "outputs": [
    {
     "data": {
      "text/plain": [
       "94"
      ]
     },
     "execution_count": 20,
     "metadata": {},
     "output_type": "execute_result"
    }
   ],
   "source": [
    "np.min(len_chunks)"
   ]
  },
  {
   "cell_type": "code",
   "execution_count": 21,
   "id": "37251a1f-e8fb-40f6-8555-79ff657d43fe",
   "metadata": {
    "tags": []
   },
   "outputs": [
    {
     "name": "stdout",
     "output_type": "stream",
     "text": [
      "\n",
      "Chunk #111 has length 295\n",
      "For Joshua, and for the 200,000 other young people with Type 1 diabetes, let’s cap the cost of insulin at $35 a month so everyone can afford it.  \n",
      "\n",
      "Drug companies will still do very well. And while we’re at it let Medicare negotiate lower prices for prescription drugs, like the VA already does.\n",
      "\n",
      "Chunk #112 has length 204\n",
      "Look, the American Rescue Plan is helping millions of families on Affordable Care Act plans save $2,400 a year on their health care premiums. Let’s close the coverage gap and make those savings permanent.\n",
      "\n",
      "Chunk #113 has length 94\n",
      "Second – cut energy costs for families an average of $500 a year by combatting climate change.\n",
      "\n",
      "Chunk #114 has length 296\n",
      "Let’s provide investments and tax credits to weatherize your homes and businesses to be energy efficient and you get a tax credit; double America’s clean energy production in solar, wind, and so much more;  lower the price of electric vehicles, saving you another $80 a month because you’ll never\n"
     ]
    }
   ],
   "source": [
    "for idx in range(idx_min_len_chunk-2, idx_min_len_chunk+2):\n",
    "    chunk = chunk_of_text[idx]\n",
    "    print(f\"\\nChunk #{idx} has length {len(chunk)}\")\n",
    "    print(chunk)"
   ]
  },
  {
   "cell_type": "code",
   "execution_count": 22,
   "id": "127c742e-c961-44ed-9bcf-b5873700c24e",
   "metadata": {
    "tags": []
   },
   "outputs": [
    {
     "data": {
      "text/plain": [
       "' stronger today than we were a year ago. \\n\\nAnd we will be stronger a year from now than we are today. \\n\\nNow is our moment to meet and overcome the challenges of our time. \\n\\nAnd we will, as one people. \\n\\nOne America. \\n\\nThe United States of America. \\n\\nMay God bless you all. May God protect our troops.'"
      ]
     },
     "execution_count": 22,
     "metadata": {},
     "output_type": "execute_result"
    }
   ],
   "source": [
    "text.page_content[-300:]"
   ]
  },
  {
   "cell_type": "markdown",
   "id": "de77d641-57f4-4f19-83f3-6cb3449c64fc",
   "metadata": {},
   "source": [
    "# Index the document"
   ]
  },
  {
   "cell_type": "code",
   "execution_count": 23,
   "id": "3ed966e1-b264-49dc-924e-6ca1785c6e7d",
   "metadata": {
    "tags": []
   },
   "outputs": [
    {
     "data": {
      "application/vnd.jupyter.widget-view+json": {
       "model_id": "fc7aba2bfa2b46fdb280cd7e72fd2610",
       "version_major": 2,
       "version_minor": 0
      },
      "text/plain": [
       "Downloading (…)a8e1d/.gitattributes:   0%|          | 0.00/1.18k [00:00<?, ?B/s]"
      ]
     },
     "metadata": {},
     "output_type": "display_data"
    },
    {
     "data": {
      "application/vnd.jupyter.widget-view+json": {
       "model_id": "6c25860f2ca94b1ba96785754609b204",
       "version_major": 2,
       "version_minor": 0
      },
      "text/plain": [
       "Downloading (…)_Pooling/config.json:   0%|          | 0.00/190 [00:00<?, ?B/s]"
      ]
     },
     "metadata": {},
     "output_type": "display_data"
    },
    {
     "data": {
      "application/vnd.jupyter.widget-view+json": {
       "model_id": "fe5d613386d7430ba9a40aeec386e156",
       "version_major": 2,
       "version_minor": 0
      },
      "text/plain": [
       "Downloading (…)b20bca8e1d/README.md:   0%|          | 0.00/10.6k [00:00<?, ?B/s]"
      ]
     },
     "metadata": {},
     "output_type": "display_data"
    },
    {
     "data": {
      "application/vnd.jupyter.widget-view+json": {
       "model_id": "d8d3e50788ef41e78fd5dd1e5483b182",
       "version_major": 2,
       "version_minor": 0
      },
      "text/plain": [
       "Downloading (…)0bca8e1d/config.json:   0%|          | 0.00/571 [00:00<?, ?B/s]"
      ]
     },
     "metadata": {},
     "output_type": "display_data"
    },
    {
     "data": {
      "application/vnd.jupyter.widget-view+json": {
       "model_id": "238451fa03984059bd6d30343e195cd7",
       "version_major": 2,
       "version_minor": 0
      },
      "text/plain": [
       "Downloading (…)ce_transformers.json:   0%|          | 0.00/116 [00:00<?, ?B/s]"
      ]
     },
     "metadata": {},
     "output_type": "display_data"
    },
    {
     "data": {
      "application/vnd.jupyter.widget-view+json": {
       "model_id": "09265a1cb0da4c94834de4d071cb0e17",
       "version_major": 2,
       "version_minor": 0
      },
      "text/plain": [
       "Downloading (…)e1d/data_config.json:   0%|          | 0.00/39.3k [00:00<?, ?B/s]"
      ]
     },
     "metadata": {},
     "output_type": "display_data"
    },
    {
     "data": {
      "application/vnd.jupyter.widget-view+json": {
       "model_id": "91dffc955d5540d0a91b1c83e739efca",
       "version_major": 2,
       "version_minor": 0
      },
      "text/plain": [
       "Downloading pytorch_model.bin:   0%|          | 0.00/438M [00:00<?, ?B/s]"
      ]
     },
     "metadata": {},
     "output_type": "display_data"
    },
    {
     "data": {
      "application/vnd.jupyter.widget-view+json": {
       "model_id": "fd8a6641ce5d4b2cb1c6ce548a3c3e2d",
       "version_major": 2,
       "version_minor": 0
      },
      "text/plain": [
       "Downloading (…)nce_bert_config.json:   0%|          | 0.00/53.0 [00:00<?, ?B/s]"
      ]
     },
     "metadata": {},
     "output_type": "display_data"
    },
    {
     "data": {
      "application/vnd.jupyter.widget-view+json": {
       "model_id": "d3fc4d21c32a49329c54fd73bde714bd",
       "version_major": 2,
       "version_minor": 0
      },
      "text/plain": [
       "Downloading (…)cial_tokens_map.json:   0%|          | 0.00/239 [00:00<?, ?B/s]"
      ]
     },
     "metadata": {},
     "output_type": "display_data"
    },
    {
     "data": {
      "application/vnd.jupyter.widget-view+json": {
       "model_id": "5b5e2d993f2343f9bdcbae6c42816996",
       "version_major": 2,
       "version_minor": 0
      },
      "text/plain": [
       "Downloading (…)a8e1d/tokenizer.json:   0%|          | 0.00/466k [00:00<?, ?B/s]"
      ]
     },
     "metadata": {},
     "output_type": "display_data"
    },
    {
     "data": {
      "application/vnd.jupyter.widget-view+json": {
       "model_id": "242b756df9fa4ec99a6edb80f01c5fb2",
       "version_major": 2,
       "version_minor": 0
      },
      "text/plain": [
       "Downloading (…)okenizer_config.json:   0%|          | 0.00/363 [00:00<?, ?B/s]"
      ]
     },
     "metadata": {},
     "output_type": "display_data"
    },
    {
     "data": {
      "application/vnd.jupyter.widget-view+json": {
       "model_id": "343e1ad4dc8c4ea49d96e686200c7adb",
       "version_major": 2,
       "version_minor": 0
      },
      "text/plain": [
       "Downloading (…)8e1d/train_script.py:   0%|          | 0.00/13.1k [00:00<?, ?B/s]"
      ]
     },
     "metadata": {},
     "output_type": "display_data"
    },
    {
     "data": {
      "application/vnd.jupyter.widget-view+json": {
       "model_id": "991798ab6c404432b8424383887f6499",
       "version_major": 2,
       "version_minor": 0
      },
      "text/plain": [
       "Downloading (…)b20bca8e1d/vocab.txt:   0%|          | 0.00/232k [00:00<?, ?B/s]"
      ]
     },
     "metadata": {},
     "output_type": "display_data"
    },
    {
     "data": {
      "application/vnd.jupyter.widget-view+json": {
       "model_id": "2cc9c408ee1f482c9752c69291113408",
       "version_major": 2,
       "version_minor": 0
      },
      "text/plain": [
       "Downloading (…)bca8e1d/modules.json:   0%|          | 0.00/349 [00:00<?, ?B/s]"
      ]
     },
     "metadata": {},
     "output_type": "display_data"
    }
   ],
   "source": [
    "embedding_model = HuggingFaceEmbeddings(model_name = \"sentence-transformers/all-mpnet-base-v2\")"
   ]
  },
  {
   "cell_type": "code",
   "execution_count": 24,
   "id": "61cbed36-767d-44c9-97f0-456b2c903a57",
   "metadata": {
    "tags": []
   },
   "outputs": [],
   "source": [
    "db = FAISS.from_documents(chunks, embedding_model)"
   ]
  },
  {
   "cell_type": "code",
   "execution_count": 31,
   "id": "b9c32844-ffc4-4bee-afec-1ba0ec36e64b",
   "metadata": {
    "tags": []
   },
   "outputs": [
    {
     "data": {
      "text/plain": [
       "(260, 260)"
      ]
     },
     "execution_count": 31,
     "metadata": {},
     "output_type": "execute_result"
    }
   ],
   "source": [
    "len(db.index_to_docstore_id), len(chunks)"
   ]
  },
  {
   "cell_type": "code",
   "execution_count": 49,
   "id": "85476a6c-8104-4e94-9b82-9540b99829d6",
   "metadata": {
    "tags": []
   },
   "outputs": [],
   "source": [
    "retriever = db.as_retriever()"
   ]
  },
  {
   "cell_type": "code",
   "execution_count": 50,
   "id": "7f2c73dd-ed6e-450e-a346-6be902501e4b",
   "metadata": {
    "tags": []
   },
   "outputs": [
    {
     "data": {
      "text/plain": [
       "{'vectorstore': <langchain.vectorstores.faiss.FAISS at 0x7f4424eb5050>,\n",
       " 'search_type': 'similarity',\n",
       " 'search_kwargs': {}}"
      ]
     },
     "execution_count": 50,
     "metadata": {},
     "output_type": "execute_result"
    }
   ],
   "source": [
    "retriever.__dict__"
   ]
  },
  {
   "cell_type": "code",
   "execution_count": 45,
   "id": "dd13b7a1-5529-4551-931b-5f9b0a834852",
   "metadata": {
    "tags": []
   },
   "outputs": [
    {
     "data": {
      "text/plain": [
       "(list, 4)"
      ]
     },
     "execution_count": 45,
     "metadata": {},
     "output_type": "execute_result"
    }
   ],
   "source": [
    "query = \"What did the president say about Ketanji Brown Jackson?\"\n",
    "output = retriever.get_relevant_documents(query)\n",
    "type(output), len(output)"
   ]
  },
  {
   "cell_type": "code",
   "execution_count": 56,
   "id": "3983803a-3978-4d43-91f4-82d6ae1d69e6",
   "metadata": {
    "tags": []
   },
   "outputs": [
    {
     "name": "stdout",
     "output_type": "stream",
     "text": [
      "\n",
      "\n",
      "And I did that 4 days ago, when I nominated Circuit Court of Appeals Judge Ketanji Brown Jackson. One of our nation’s top legal minds, who will continue Justice Breyer’s legacy of excellence.\n",
      "\n",
      "\n",
      "He was born a soldier. Army National Guard. Combat medic in Kosovo and Iraq. \n",
      "\n",
      "Stationed near Baghdad, just yards from burn pits the size of football fields. \n",
      "\n",
      "Heath’s widow Danielle is here with us tonight. They loved going to Ohio State football games. He loved building Legos with their daughter.\n",
      "\n",
      "\n",
      "A former top litigator in private practice. A former federal public defender. And from a family of public school educators and police officers. A consensus builder. Since she’s been nominated, she’s received a broad range of support—from the Fraternal Order of Police to former judges appointed by\n",
      "\n",
      "\n",
      "public school educators and police officers. A consensus builder. Since she’s been nominated, she’s received a broad range of support—from the Fraternal Order of Police to former judges appointed by Democrats and Republicans.\n"
     ]
    }
   ],
   "source": [
    "for oo in output:\n",
    "    print(\"\\n\")\n",
    "    print(oo.page_content)"
   ]
  },
  {
   "cell_type": "code",
   "execution_count": 69,
   "id": "022da17d-06f8-4491-9a1b-7a111209000d",
   "metadata": {
    "tags": []
   },
   "outputs": [
    {
     "data": {
      "text/plain": [
       "[(Document(page_content='And I did that 4 days ago, when I nominated Circuit Court of Appeals Judge Ketanji Brown Jackson. One of our nation’s top legal minds, who will continue Justice Breyer’s legacy of excellence.', metadata={}),\n",
       "  1.0226996),\n",
       " (Document(page_content='He was born a soldier. Army National Guard. Combat medic in Kosovo and Iraq. \\n\\nStationed near Baghdad, just yards from burn pits the size of football fields. \\n\\nHeath’s widow Danielle is here with us tonight. They loved going to Ohio State football games. He loved building Legos with their daughter.', metadata={}),\n",
       "  1.2257392),\n",
       " (Document(page_content='A former top litigator in private practice. A former federal public defender. And from a family of public school educators and police officers. A consensus builder. Since she’s been nominated, she’s received a broad range of support—from the Fraternal Order of Police to former judges appointed by', metadata={}),\n",
       "  1.2598848)]"
      ]
     },
     "execution_count": 69,
     "metadata": {},
     "output_type": "execute_result"
    }
   ],
   "source": [
    "db.similarity_search_with_score(query, k=3)"
   ]
  },
  {
   "cell_type": "code",
   "execution_count": 61,
   "id": "14bc7e4a-35c1-4fcf-8c05-ffab82b281c8",
   "metadata": {
    "tags": []
   },
   "outputs": [
    {
     "data": {
      "text/plain": [
       "\u001b[0;31mSignature:\u001b[0m \u001b[0mdb\u001b[0m\u001b[0;34m.\u001b[0m\u001b[0mindex\u001b[0m\u001b[0;34m.\u001b[0m\u001b[0msearch\u001b[0m\u001b[0;34m(\u001b[0m\u001b[0mx\u001b[0m\u001b[0;34m,\u001b[0m \u001b[0mk\u001b[0m\u001b[0;34m,\u001b[0m \u001b[0;34m*\u001b[0m\u001b[0;34m,\u001b[0m \u001b[0mparams\u001b[0m\u001b[0;34m=\u001b[0m\u001b[0;32mNone\u001b[0m\u001b[0;34m,\u001b[0m \u001b[0mD\u001b[0m\u001b[0;34m=\u001b[0m\u001b[0;32mNone\u001b[0m\u001b[0;34m,\u001b[0m \u001b[0mI\u001b[0m\u001b[0;34m=\u001b[0m\u001b[0;32mNone\u001b[0m\u001b[0;34m)\u001b[0m\u001b[0;34m\u001b[0m\u001b[0;34m\u001b[0m\u001b[0m\n",
       "\u001b[0;31mDocstring:\u001b[0m\n",
       "Find the k nearest neighbors of the set of vectors x in the index.\n",
       "\n",
       "Parameters\n",
       "----------\n",
       "x : array_like\n",
       "    Query vectors, shape (n, d) where d is appropriate for the index.\n",
       "    `dtype` must be float32.\n",
       "k : int\n",
       "    Number of nearest neighbors.\n",
       "params : SearchParameters\n",
       "    Search parameters of the current search (overrides the class-level params)\n",
       "D : array_like, optional\n",
       "    Distance array to store the result.\n",
       "I : array_like, optional\n",
       "    Labels array to store the results.\n",
       "\n",
       "Returns\n",
       "-------\n",
       "D : array_like\n",
       "    Distances of the nearest neighbors, shape (n, k). When not enough results are found\n",
       "    the label is set to +Inf or -Inf.\n",
       "I : array_like\n",
       "    Labels of the nearest neighbors, shape (n, k).\n",
       "    When not enough results are found, the label is set to -1\n",
       "\u001b[0;31mFile:\u001b[0m      /usr/local/lib/python3.11/site-packages/faiss/class_wrappers.py\n",
       "\u001b[0;31mType:\u001b[0m      method"
      ]
     },
     "metadata": {},
     "output_type": "display_data"
    }
   ],
   "source": [
    "db.index.search?"
   ]
  },
  {
   "cell_type": "code",
   "execution_count": null,
   "id": "4d90e661-dd9b-4e78-97a2-726b2e44d07e",
   "metadata": {},
   "outputs": [],
   "source": []
  }
 ],
 "metadata": {
  "kernelspec": {
   "display_name": "Python 3 (ipykernel)",
   "language": "python",
   "name": "python3"
  },
  "language_info": {
   "codemirror_mode": {
    "name": "ipython",
    "version": 3
   },
   "file_extension": ".py",
   "mimetype": "text/x-python",
   "name": "python",
   "nbconvert_exporter": "python",
   "pygments_lexer": "ipython3",
   "version": "3.11.3"
  }
 },
 "nbformat": 4,
 "nbformat_minor": 5
}
