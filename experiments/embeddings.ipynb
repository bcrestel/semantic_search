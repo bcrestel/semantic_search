{
 "cells": [
  {
   "cell_type": "code",
   "execution_count": 97,
   "id": "4d3a8342-c4a0-4e14-bc22-786d8ae5106b",
   "metadata": {
    "tags": []
   },
   "outputs": [],
   "source": [
    "import torch\n",
    "import numpy as np\n",
    "import matplotlib.pyplot as plt\n",
    "\n",
    "from transformers import AutoTokenizer, AutoModel\n",
    "from transformers.models.mpnet.modeling_mpnet import create_position_ids_from_input_ids\n",
    "\n",
    "from sentence_transformers import SentenceTransformer\n",
    "from sentence_transformers.util import cos_sim"
   ]
  },
  {
   "cell_type": "code",
   "execution_count": 2,
   "id": "c91eb864-f409-4924-af3b-4cafde2774fb",
   "metadata": {
    "tags": []
   },
   "outputs": [],
   "source": [
    "model_name = 'all-mpnet-base-v2'"
   ]
  },
  {
   "cell_type": "markdown",
   "id": "4c76f926-afe9-4e83-b51a-d56d315abe21",
   "metadata": {},
   "source": [
    "# Word embeddings\n",
    "\n",
    "The sentence_transformers library uses HuggingFace's transformers library under the hood. That means we can have access to the token embeddings from"
   ]
  },
  {
   "cell_type": "markdown",
   "id": "88d93061-fd51-4bda-9f9d-234527fe6a09",
   "metadata": {},
   "source": [
    "## Tokenization\n",
    "\n",
    "Reference: https://huggingface.co/docs/transformers/tokenizer_summary"
   ]
  },
  {
   "cell_type": "code",
   "execution_count": 4,
   "id": "9b7f5571-b862-4ef0-8029-e1a18dd488e6",
   "metadata": {
    "tags": []
   },
   "outputs": [
    {
     "data": {
      "application/vnd.jupyter.widget-view+json": {
       "model_id": "e6be9e4c9e0e4326919b619d87845f85",
       "version_major": 2,
       "version_minor": 0
      },
      "text/plain": [
       "Downloading (…)okenizer_config.json:   0%|          | 0.00/363 [00:00<?, ?B/s]"
      ]
     },
     "metadata": {},
     "output_type": "display_data"
    },
    {
     "data": {
      "application/vnd.jupyter.widget-view+json": {
       "model_id": "138b15def9b04b0d94a1f7e77da7c60d",
       "version_major": 2,
       "version_minor": 0
      },
      "text/plain": [
       "Downloading (…)solve/main/vocab.txt:   0%|          | 0.00/232k [00:00<?, ?B/s]"
      ]
     },
     "metadata": {},
     "output_type": "display_data"
    },
    {
     "data": {
      "application/vnd.jupyter.widget-view+json": {
       "model_id": "9cbb6a2cd410401391b5bcebf7f71243",
       "version_major": 2,
       "version_minor": 0
      },
      "text/plain": [
       "Downloading (…)/main/tokenizer.json:   0%|          | 0.00/466k [00:00<?, ?B/s]"
      ]
     },
     "metadata": {},
     "output_type": "display_data"
    },
    {
     "data": {
      "application/vnd.jupyter.widget-view+json": {
       "model_id": "9b8f1ebf7f4a47269c01f798fa47bf41",
       "version_major": 2,
       "version_minor": 0
      },
      "text/plain": [
       "Downloading (…)cial_tokens_map.json:   0%|          | 0.00/239 [00:00<?, ?B/s]"
      ]
     },
     "metadata": {},
     "output_type": "display_data"
    },
    {
     "data": {
      "text/plain": [
       "transformers.models.mpnet.tokenization_mpnet_fast.MPNetTokenizerFast"
      ]
     },
     "execution_count": 4,
     "metadata": {},
     "output_type": "execute_result"
    }
   ],
   "source": [
    "tokenizer = AutoTokenizer.from_pretrained(\"sentence-transformers/\" + model_name)\n",
    "type(tokenizer)"
   ]
  },
  {
   "cell_type": "code",
   "execution_count": 8,
   "id": "87467ee5-c098-4712-80b1-b704b49a2fe3",
   "metadata": {
    "tags": []
   },
   "outputs": [
    {
     "data": {
      "text/plain": [
       "30527"
      ]
     },
     "execution_count": 8,
     "metadata": {},
     "output_type": "execute_result"
    }
   ],
   "source": [
    "len(tokenizer.get_vocab())"
   ]
  },
  {
   "cell_type": "code",
   "execution_count": 9,
   "id": "9ed6a544-ae18-4bdb-86f8-4bf670d11087",
   "metadata": {
    "tags": []
   },
   "outputs": [
    {
     "name": "stdout",
     "output_type": "stream",
     "text": [
      "apple: ['apple']\n",
      "Apple: ['apple']\n",
      "do: ['do']\n",
      "don't: ['don', \"'\", 't']\n",
      "surprisingly: ['surprisingly']\n",
      "annoyingly: ['annoying', '##ly']\n",
      "CPU: ['cpu']\n",
      "GPU: ['gp', '##u']\n",
      "transformers: ['transformers']\n"
     ]
    }
   ],
   "source": [
    "words = [\"apple\", \"Apple\", \"do\", \"don't\", \"surprisingly\", \"annoyingly\", \"CPU\", \"GPU\", \"transformers\"]\n",
    "for ww in words:\n",
    "    print(f\"{ww}: {tokenizer.tokenize(ww)}\")"
   ]
  },
  {
   "cell_type": "code",
   "execution_count": 10,
   "id": "a61aa1d2-dc57-4796-96b4-351fc7205007",
   "metadata": {
    "tags": []
   },
   "outputs": [
    {
     "data": {
      "text/plain": [
       "['question',\n",
       " ':',\n",
       " 'how',\n",
       " 'can',\n",
       " 'i',\n",
       " 'get',\n",
       " 'involved',\n",
       " 'in',\n",
       " 'an',\n",
       " 'ip',\n",
       " '##o',\n",
       " 'that',\n",
       " 'morgan',\n",
       " 'stanley',\n",
       " 'is',\n",
       " 'under',\n",
       " '##writing',\n",
       " '?']"
      ]
     },
     "execution_count": 10,
     "metadata": {},
     "output_type": "execute_result"
    }
   ],
   "source": [
    "tokenizer.tokenize(\"Question: How can I get involved in an IPO that Morgan Stanley is underwriting?\")"
   ]
  },
  {
   "cell_type": "code",
   "execution_count": 11,
   "id": "74605acf-7636-4257-ac4d-382429424bdf",
   "metadata": {
    "tags": []
   },
   "outputs": [
    {
     "data": {
      "text/plain": [
       "['we',\n",
       " 'are',\n",
       " 'accounted',\n",
       " 'poor',\n",
       " 'citizens',\n",
       " ',',\n",
       " 'the',\n",
       " 'patricia',\n",
       " '##ns',\n",
       " 'good',\n",
       " '.',\n",
       " 'what',\n",
       " 'authority',\n",
       " 'surf',\n",
       " '##eit',\n",
       " '##s',\n",
       " 'on',\n",
       " 'would',\n",
       " 'relieve',\n",
       " 'us',\n",
       " ':']"
      ]
     },
     "execution_count": 11,
     "metadata": {},
     "output_type": "execute_result"
    }
   ],
   "source": [
    "tokenizer.tokenize(\"We are accounted poor citizens, the patricians good. What authority surfeits on would relieve us:\")"
   ]
  },
  {
   "cell_type": "code",
   "execution_count": 13,
   "id": "d5258a18-37d0-4820-b608-44222e243da1",
   "metadata": {
    "tags": []
   },
   "outputs": [
    {
     "data": {
      "text/plain": [
       "['banking', 'bankrupt', 'banker', 'bankers', 'bankruptcy', 'bank', 'banks']"
      ]
     },
     "execution_count": 13,
     "metadata": {},
     "output_type": "execute_result"
    }
   ],
   "source": [
    "[w for w in tokenizer.get_vocab().keys() if w.startswith(\"bank\")]"
   ]
  },
  {
   "cell_type": "markdown",
   "id": "58ca0584-a9d7-48f4-917e-300233626131",
   "metadata": {},
   "source": [
    "## Token embeddings"
   ]
  },
  {
   "cell_type": "code",
   "execution_count": 3,
   "id": "20eb1d26-570e-42e2-9723-c48b1e49c715",
   "metadata": {
    "tags": []
   },
   "outputs": [
    {
     "data": {
      "application/vnd.jupyter.widget-view+json": {
       "model_id": "8c5fc2298ab24823a99ebf39bc32625d",
       "version_major": 2,
       "version_minor": 0
      },
      "text/plain": [
       "Downloading (…)lve/main/config.json:   0%|          | 0.00/571 [00:00<?, ?B/s]"
      ]
     },
     "metadata": {},
     "output_type": "display_data"
    },
    {
     "data": {
      "application/vnd.jupyter.widget-view+json": {
       "model_id": "f63740686b054f4cb6bbb49478d17c1f",
       "version_major": 2,
       "version_minor": 0
      },
      "text/plain": [
       "Downloading pytorch_model.bin:   0%|          | 0.00/438M [00:00<?, ?B/s]"
      ]
     },
     "metadata": {},
     "output_type": "display_data"
    },
    {
     "data": {
      "text/plain": [
       "transformers.models.mpnet.modeling_mpnet.MPNetModel"
      ]
     },
     "execution_count": 3,
     "metadata": {},
     "output_type": "execute_result"
    }
   ],
   "source": [
    "# Set argument output_hidden_states to True if you want to get intermediate representations\n",
    "model = AutoModel.from_pretrained(\"sentence-transformers/\" + model_name, output_hidden_states=True)\n",
    "type(model)"
   ]
  },
  {
   "cell_type": "code",
   "execution_count": 5,
   "id": "aa628ab5-bf31-4012-841f-41120afbed6b",
   "metadata": {
    "tags": []
   },
   "outputs": [
    {
     "data": {
      "text/plain": [
       "transformers.models.mpnet.modeling_mpnet.MPNetEmbeddings"
      ]
     },
     "execution_count": 5,
     "metadata": {},
     "output_type": "execute_result"
    }
   ],
   "source": [
    "# Max context length is 514 (see dim of position_embeddings\n",
    "type(model.embeddings)"
   ]
  },
  {
   "cell_type": "code",
   "execution_count": 83,
   "id": "b5a6c6f8-2478-47db-96c8-65299bb4460b",
   "metadata": {
    "tags": []
   },
   "outputs": [
    {
     "data": {
      "text/plain": [
       "MPNetEmbeddings(\n",
       "  (word_embeddings): Embedding(30527, 768, padding_idx=1)\n",
       "  (position_embeddings): Embedding(514, 768, padding_idx=1)\n",
       "  (LayerNorm): LayerNorm((768,), eps=1e-05, elementwise_affine=True)\n",
       "  (dropout): Dropout(p=0.1, inplace=False)\n",
       ")"
      ]
     },
     "execution_count": 83,
     "metadata": {},
     "output_type": "execute_result"
    }
   ],
   "source": [
    "model.embeddings"
   ]
  },
  {
   "cell_type": "code",
   "execution_count": 6,
   "id": "76d0538d-11ef-4b4a-b0f9-04cf7eecc6b8",
   "metadata": {
    "tags": []
   },
   "outputs": [
    {
     "data": {
      "text/plain": [
       "(LayerNorm((768,), eps=1e-05, elementwise_affine=True),\n",
       " Dropout(p=0.1, inplace=False))"
      ]
     },
     "execution_count": 6,
     "metadata": {},
     "output_type": "execute_result"
    }
   ],
   "source": [
    "model.embeddings.LayerNorm, model.embeddings.dropout"
   ]
  },
  {
   "cell_type": "code",
   "execution_count": 7,
   "id": "12187c69-42bc-40b7-b6d6-5297cdf425dc",
   "metadata": {
    "tags": []
   },
   "outputs": [
    {
     "data": {
      "text/plain": [
       "False"
      ]
     },
     "execution_count": 7,
     "metadata": {},
     "output_type": "execute_result"
    }
   ],
   "source": [
    "model.training"
   ]
  },
  {
   "cell_type": "markdown",
   "id": "c5d0a83c-ca00-45de-a02f-5a5c14dd7533",
   "metadata": {},
   "source": [
    "### Decompose steps in embedding layer"
   ]
  },
  {
   "cell_type": "code",
   "execution_count": 46,
   "id": "468238d5-3839-4379-abc9-4e9a88a32173",
   "metadata": {
    "tags": []
   },
   "outputs": [
    {
     "data": {
      "text/plain": [
       "{'input_ids': tensor([[   0, 6211,    2]]), 'attention_mask': tensor([[1, 1, 1]])}"
      ]
     },
     "execution_count": 46,
     "metadata": {},
     "output_type": "execute_result"
    }
   ],
   "source": [
    "word = \"apple\"\n",
    "word_tokenized = tokenizer(word, padding=True, truncation=True, max_length=128, return_tensors='pt')\n",
    "word_tokenized"
   ]
  },
  {
   "cell_type": "code",
   "execution_count": 76,
   "id": "b8c65422-8cfd-4cac-b90d-0a5fc052ef33",
   "metadata": {
    "tags": []
   },
   "outputs": [
    {
     "data": {
      "text/plain": [
       "(torch.Size([768]),\n",
       " torch.Size([768]),\n",
       " LayerNorm((768,), eps=1e-05, elementwise_affine=True))"
      ]
     },
     "execution_count": 76,
     "metadata": {},
     "output_type": "execute_result"
    }
   ],
   "source": [
    "model.embeddings.LayerNorm.weight.shape, model.embeddings.LayerNorm.bias.shape, model.embeddings.LayerNorm"
   ]
  },
  {
   "cell_type": "code",
   "execution_count": 73,
   "id": "d28f7fe5-028f-447d-adfe-7b696cdc0051",
   "metadata": {
    "tags": []
   },
   "outputs": [
    {
     "data": {
      "text/plain": [
       "tensor([-0.0047,  0.0803,  0.1751, -0.0465, -0.0326,  0.0616,  0.0833, -0.1099,\n",
       "         0.0376,  0.0033,  0.0017,  0.1452, -0.0827, -0.1474, -0.0634, -0.0544,\n",
       "        -0.0448, -0.0013,  0.0403,  0.1619], grad_fn=<SliceBackward0>)"
      ]
     },
     "execution_count": 73,
     "metadata": {},
     "output_type": "execute_result"
    }
   ],
   "source": [
    "word_embedding = model.embeddings.word_embeddings(word_tokenized[\"input_ids\"])\n",
    "word_embedding[0, 1, :20]"
   ]
  },
  {
   "cell_type": "code",
   "execution_count": 100,
   "id": "546cbed7-5c05-4c33-a602-1fbbd0b1c003",
   "metadata": {
    "tags": []
   },
   "outputs": [
    {
     "data": {
      "text/plain": [
       "tensor([[2, 3, 4]])"
      ]
     },
     "execution_count": 100,
     "metadata": {},
     "output_type": "execute_result"
    }
   ],
   "source": [
    "emb_idx = create_position_ids_from_input_ids(word_tokenized[\"input_ids\"], 1)\n",
    "emb_idx"
   ]
  },
  {
   "cell_type": "code",
   "execution_count": 112,
   "id": "95d5176f-b681-48a1-a8eb-765daf57ca2e",
   "metadata": {
    "tags": []
   },
   "outputs": [
    {
     "data": {
      "text/plain": [
       "tensor([ 0.0481,  0.0504,  0.0340,  0.0078, -0.0005, -0.0213,  0.0243, -0.0567,\n",
       "        -0.0059,  0.0313, -0.0165,  0.0280,  0.0585,  0.0019, -0.0103,  0.0222,\n",
       "        -0.0103, -0.0005,  0.0061,  0.0030], grad_fn=<SliceBackward0>)"
      ]
     },
     "execution_count": 112,
     "metadata": {},
     "output_type": "execute_result"
    }
   ],
   "source": [
    "pos_emb = model.embeddings.position_embeddings(emb_idx)\n",
    "pos_emb[0, 1, :20]"
   ]
  },
  {
   "cell_type": "code",
   "execution_count": 134,
   "id": "ee9ea8a0-6c1c-4de9-9b98-6846db29f9cb",
   "metadata": {
    "tags": []
   },
   "outputs": [
    {
     "data": {
      "text/plain": [
       "tensor([ 0.0435,  0.1307,  0.2090, -0.0387, -0.0330,  0.0403,  0.1075, -0.1666,\n",
       "         0.0317,  0.0346, -0.0148,  0.1732, -0.0242, -0.1455, -0.0738, -0.0322,\n",
       "        -0.0551, -0.0018,  0.0464,  0.1649], grad_fn=<SliceBackward0>)"
      ]
     },
     "execution_count": 134,
     "metadata": {},
     "output_type": "execute_result"
    }
   ],
   "source": [
    "embedding = (word_embedding + pos_emb)\n",
    "embedding[0, 1, :20]"
   ]
  },
  {
   "cell_type": "code",
   "execution_count": 135,
   "id": "40b1701d-d45d-4d47-9694-aa2f54a62afb",
   "metadata": {
    "tags": []
   },
   "outputs": [
    {
     "data": {
      "text/plain": [
       "tensor([ 0.1175,  0.5071,  0.6669, -0.0728, -0.0922,  0.1441,  0.3902, -0.1599,\n",
       "         0.1719,  0.0905, -0.0904,  0.6347, -0.0895, -0.5575, -0.2077, -0.1272,\n",
       "        -0.0607, -0.0038,  0.2091,  0.4943], grad_fn=<SliceBackward0>)"
      ]
     },
     "execution_count": 135,
     "metadata": {},
     "output_type": "execute_result"
    }
   ],
   "source": [
    "_tmp = embedding[0, 1, :]\n",
    "((_tmp - _tmp.mean()) / (_tmp.var(unbiased=False) + 1e-5).sqrt() * model.embeddings.LayerNorm.weight + model.embeddings.LayerNorm.bias)[:20]"
   ]
  },
  {
   "cell_type": "code",
   "execution_count": 108,
   "id": "93572e2c-4746-4642-8ea7-a5bee3daa105",
   "metadata": {
    "tags": []
   },
   "outputs": [
    {
     "data": {
      "text/plain": [
       "tensor([ 0.1175,  0.5071,  0.6669, -0.0728, -0.0922,  0.1441,  0.3902, -0.1599,\n",
       "         0.1719,  0.0905, -0.0904,  0.6347, -0.0895, -0.5575, -0.2077, -0.1272,\n",
       "        -0.0607, -0.0038,  0.2091,  0.4943], grad_fn=<SliceBackward0>)"
      ]
     },
     "execution_count": 108,
     "metadata": {},
     "output_type": "execute_result"
    }
   ],
   "source": [
    "model.embeddings.LayerNorm(_tmp)[:20]"
   ]
  },
  {
   "cell_type": "code",
   "execution_count": 133,
   "id": "192a3e27-1501-47c5-98be-0c16ccdc1ccb",
   "metadata": {
    "tags": []
   },
   "outputs": [
    {
     "data": {
      "text/plain": [
       "tensor([ 0.1175,  0.5071,  0.6669, -0.0728, -0.0922,  0.1441,  0.3902, -0.1599,\n",
       "         0.1719,  0.0905, -0.0904,  0.6347, -0.0895, -0.5575, -0.2077, -0.1272,\n",
       "        -0.0607, -0.0038,  0.2091,  0.4943], grad_fn=<SliceBackward0>)"
      ]
     },
     "execution_count": 133,
     "metadata": {},
     "output_type": "execute_result"
    }
   ],
   "source": [
    "embedding_layernorm = model.embeddings.forward(word_tokenized[\"input_ids\"])\n",
    "embedding_layernorm[0, 1, :20]"
   ]
  },
  {
   "cell_type": "code",
   "execution_count": 132,
   "id": "f2192308-af7a-45f4-9ef2-0753adfdb96b",
   "metadata": {
    "tags": []
   },
   "outputs": [
    {
     "data": {
      "text/plain": [
       "(tensor([[5.9215, 1.0328, 1.0007]], grad_fn=<LinalgVectorNormBackward0>),\n",
       " tensor([[4.7150, 2.3733, 2.5478]], grad_fn=<LinalgVectorNormBackward0>),\n",
       " tensor([[3.0357, 8.0590, 2.7213]], grad_fn=<LinalgVectorNormBackward0>))"
      ]
     },
     "execution_count": 132,
     "metadata": {},
     "output_type": "execute_result"
    }
   ],
   "source": [
    "pos_emb.norm(dim=2), word_embedding.norm(dim=2), word_embedding_layernorm.norm(dim=2)"
   ]
  },
  {
   "cell_type": "markdown",
   "id": "ab2f9a12-1fd8-4389-901c-ab30e8fa9419",
   "metadata": {},
   "source": [
    "### Look at how embeddings change through hidden layers"
   ]
  },
  {
   "cell_type": "code",
   "execution_count": null,
   "id": "cbfc5060-8bef-4e83-817b-0c4006a1fca2",
   "metadata": {},
   "outputs": [],
   "source": []
  },
  {
   "cell_type": "markdown",
   "id": "748e5553-e7c9-4721-aa4e-f867a573420f",
   "metadata": {},
   "source": [
    "### Look at how embeddings change with context"
   ]
  },
  {
   "cell_type": "code",
   "execution_count": null,
   "id": "1383c7bc-c6d7-41a5-b558-360313956cb2",
   "metadata": {},
   "outputs": [],
   "source": []
  },
  {
   "cell_type": "markdown",
   "id": "f0bfcda7-6010-4c35-9af4-dd84b09cdf47",
   "metadata": {},
   "source": [
    "### Look at whether embeddings are clustered by semantic"
   ]
  },
  {
   "cell_type": "code",
   "execution_count": null,
   "id": "1ef4e16b-14c9-4927-97e3-daef09e6eb3e",
   "metadata": {},
   "outputs": [],
   "source": []
  },
  {
   "cell_type": "code",
   "execution_count": null,
   "id": "099c6d7d-a147-45ac-aaa5-27d1a71b5ead",
   "metadata": {},
   "outputs": [],
   "source": []
  },
  {
   "cell_type": "code",
   "execution_count": null,
   "id": "501241ed-3e02-4b12-a3d6-4d42b5e2c421",
   "metadata": {},
   "outputs": [],
   "source": []
  },
  {
   "cell_type": "code",
   "execution_count": null,
   "id": "ae110aa1-87c7-4d6d-8761-f966673dee7b",
   "metadata": {},
   "outputs": [],
   "source": []
  },
  {
   "cell_type": "markdown",
   "id": "f2ea5f80-b883-46af-b6dd-d2879181df59",
   "metadata": {},
   "source": [
    "# Sentence embeddings"
   ]
  },
  {
   "cell_type": "markdown",
   "id": "1f48be26-8c5c-4341-b3ad-cc3333a2874b",
   "metadata": {},
   "source": [
    "## Using library sentence_transformers\n",
    "\n",
    "Example from: https://www.pinecone.io/learn/dense-vector-embeddings-nlp/#generating-dense-vectors"
   ]
  },
  {
   "cell_type": "code",
   "execution_count": 15,
   "id": "a9e3ef63-3449-4afd-b1db-3d54fa70d757",
   "metadata": {
    "tags": []
   },
   "outputs": [
    {
     "data": {
      "application/vnd.jupyter.widget-view+json": {
       "model_id": "6744f90cb71e4e2390452480327c544c",
       "version_major": 2,
       "version_minor": 0
      },
      "text/plain": [
       "Downloading (…)a8e1d/.gitattributes:   0%|          | 0.00/1.18k [00:00<?, ?B/s]"
      ]
     },
     "metadata": {},
     "output_type": "display_data"
    },
    {
     "data": {
      "application/vnd.jupyter.widget-view+json": {
       "model_id": "59fdcb37a4c743118c7d2d1a2225fdc0",
       "version_major": 2,
       "version_minor": 0
      },
      "text/plain": [
       "Downloading (…)_Pooling/config.json:   0%|          | 0.00/190 [00:00<?, ?B/s]"
      ]
     },
     "metadata": {},
     "output_type": "display_data"
    },
    {
     "data": {
      "application/vnd.jupyter.widget-view+json": {
       "model_id": "75381febc85d4efa80ed63134e82dfef",
       "version_major": 2,
       "version_minor": 0
      },
      "text/plain": [
       "Downloading (…)b20bca8e1d/README.md:   0%|          | 0.00/10.6k [00:00<?, ?B/s]"
      ]
     },
     "metadata": {},
     "output_type": "display_data"
    },
    {
     "data": {
      "application/vnd.jupyter.widget-view+json": {
       "model_id": "31264f63316841709bde95a93b61cc75",
       "version_major": 2,
       "version_minor": 0
      },
      "text/plain": [
       "Downloading (…)0bca8e1d/config.json:   0%|          | 0.00/571 [00:00<?, ?B/s]"
      ]
     },
     "metadata": {},
     "output_type": "display_data"
    },
    {
     "data": {
      "application/vnd.jupyter.widget-view+json": {
       "model_id": "c2f696f6a02e4763af19bcb07499f0cc",
       "version_major": 2,
       "version_minor": 0
      },
      "text/plain": [
       "Downloading (…)ce_transformers.json:   0%|          | 0.00/116 [00:00<?, ?B/s]"
      ]
     },
     "metadata": {},
     "output_type": "display_data"
    },
    {
     "data": {
      "application/vnd.jupyter.widget-view+json": {
       "model_id": "bd5da0cd7a8141f8a2788a603b34cc0d",
       "version_major": 2,
       "version_minor": 0
      },
      "text/plain": [
       "Downloading (…)e1d/data_config.json:   0%|          | 0.00/39.3k [00:00<?, ?B/s]"
      ]
     },
     "metadata": {},
     "output_type": "display_data"
    },
    {
     "data": {
      "application/vnd.jupyter.widget-view+json": {
       "model_id": "3df9fbdc2fcb4675a4add4cc79ae4f0c",
       "version_major": 2,
       "version_minor": 0
      },
      "text/plain": [
       "Downloading pytorch_model.bin:   0%|          | 0.00/438M [00:00<?, ?B/s]"
      ]
     },
     "metadata": {},
     "output_type": "display_data"
    },
    {
     "data": {
      "application/vnd.jupyter.widget-view+json": {
       "model_id": "1c3ad868e14a40c1b4f57c2a559c69af",
       "version_major": 2,
       "version_minor": 0
      },
      "text/plain": [
       "Downloading (…)nce_bert_config.json:   0%|          | 0.00/53.0 [00:00<?, ?B/s]"
      ]
     },
     "metadata": {},
     "output_type": "display_data"
    },
    {
     "data": {
      "application/vnd.jupyter.widget-view+json": {
       "model_id": "81cd9f425c3e4115851d3e9394ba8435",
       "version_major": 2,
       "version_minor": 0
      },
      "text/plain": [
       "Downloading (…)cial_tokens_map.json:   0%|          | 0.00/239 [00:00<?, ?B/s]"
      ]
     },
     "metadata": {},
     "output_type": "display_data"
    },
    {
     "data": {
      "application/vnd.jupyter.widget-view+json": {
       "model_id": "dc15f9bd612d410290cf8f2c2ba4c643",
       "version_major": 2,
       "version_minor": 0
      },
      "text/plain": [
       "Downloading (…)a8e1d/tokenizer.json:   0%|          | 0.00/466k [00:00<?, ?B/s]"
      ]
     },
     "metadata": {},
     "output_type": "display_data"
    },
    {
     "data": {
      "application/vnd.jupyter.widget-view+json": {
       "model_id": "9dc441c435544d17ae2c7bfd5dc82167",
       "version_major": 2,
       "version_minor": 0
      },
      "text/plain": [
       "Downloading (…)okenizer_config.json:   0%|          | 0.00/363 [00:00<?, ?B/s]"
      ]
     },
     "metadata": {},
     "output_type": "display_data"
    },
    {
     "data": {
      "application/vnd.jupyter.widget-view+json": {
       "model_id": "4ecc2dc3962a472983a70c928f665067",
       "version_major": 2,
       "version_minor": 0
      },
      "text/plain": [
       "Downloading (…)8e1d/train_script.py:   0%|          | 0.00/13.1k [00:00<?, ?B/s]"
      ]
     },
     "metadata": {},
     "output_type": "display_data"
    },
    {
     "data": {
      "application/vnd.jupyter.widget-view+json": {
       "model_id": "2bc85aafc18b4fb48b0b2782fbd6bb89",
       "version_major": 2,
       "version_minor": 0
      },
      "text/plain": [
       "Downloading (…)b20bca8e1d/vocab.txt:   0%|          | 0.00/232k [00:00<?, ?B/s]"
      ]
     },
     "metadata": {},
     "output_type": "display_data"
    },
    {
     "data": {
      "application/vnd.jupyter.widget-view+json": {
       "model_id": "51ed9a52a93442e68c12c6c899a0ef04",
       "version_major": 2,
       "version_minor": 0
      },
      "text/plain": [
       "Downloading (…)bca8e1d/modules.json:   0%|          | 0.00/349 [00:00<?, ?B/s]"
      ]
     },
     "metadata": {},
     "output_type": "display_data"
    }
   ],
   "source": [
    "sentence_model = SentenceTransformer(model_name)"
   ]
  },
  {
   "cell_type": "code",
   "execution_count": 16,
   "id": "857be184-335a-4e82-8f2a-6cd71cff315f",
   "metadata": {
    "tags": []
   },
   "outputs": [
    {
     "data": {
      "text/plain": [
       "384"
      ]
     },
     "execution_count": 16,
     "metadata": {},
     "output_type": "execute_result"
    }
   ],
   "source": [
    "sentence_model.max_seq_length"
   ]
  },
  {
   "cell_type": "code",
   "execution_count": 18,
   "id": "aaa53dee-c2cf-4c54-b8c4-da8847c2fd9a",
   "metadata": {
    "tags": []
   },
   "outputs": [],
   "source": [
    "sentences = [\n",
    "    \"it caught him off guard that space smelled of seared steak\",\n",
    "    \"she could not decide between painting her teeth or brushing her nails\",\n",
    "    \"he thought there'd be sufficient time is he hid his watch\",\n",
    "    \"the bees decided to have a mutiny against their queen\",\n",
    "    \"the sign said there was road work ahead so she decided to speed up\",\n",
    "    \"on a scale of one to ten, what's your favorite flavor of color?\",\n",
    "    \"flying stinging insects rebelled in opposition to the matriarch\"\n",
    "]"
   ]
  },
  {
   "cell_type": "code",
   "execution_count": 20,
   "id": "36dc7b4b-2d94-457b-b946-e73c566ba699",
   "metadata": {
    "tags": []
   },
   "outputs": [
    {
     "data": {
      "text/plain": [
       "((7, 768), numpy.ndarray)"
      ]
     },
     "execution_count": 20,
     "metadata": {},
     "output_type": "execute_result"
    }
   ],
   "source": [
    "embeddings = sentence_model.encode(sentences)\n",
    "embeddings.shape, type(embeddings)"
   ]
  },
  {
   "cell_type": "code",
   "execution_count": 19,
   "id": "536aa3f3-d5c9-4bf7-9b58-35789df316b8",
   "metadata": {
    "tags": []
   },
   "outputs": [
    {
     "data": {
      "text/plain": [
       "array([0.99999994, 1.        , 1.        , 1.        , 1.        ,\n",
       "       1.        , 0.99999994], dtype=float32)"
      ]
     },
     "execution_count": 19,
     "metadata": {},
     "output_type": "execute_result"
    }
   ],
   "source": [
    "np.linalg.norm(embeddings, axis=1)"
   ]
  },
  {
   "cell_type": "code",
   "execution_count": 8,
   "id": "1bd4325c-7677-49b1-bb38-33ff7adaf315",
   "metadata": {
    "tags": []
   },
   "outputs": [
    {
     "data": {
      "text/plain": [
       "sentence_transformers.SentenceTransformer.SentenceTransformer"
      ]
     },
     "execution_count": 8,
     "metadata": {},
     "output_type": "execute_result"
    }
   ],
   "source": [
    "type(model)"
   ]
  },
  {
   "cell_type": "code",
   "execution_count": 17,
   "id": "fee69ef2-0415-4b51-ad32-95a34e206b44",
   "metadata": {
    "tags": []
   },
   "outputs": [
    {
     "data": {
      "text/plain": [
       "<matplotlib.colorbar.Colorbar at 0x7fdacfab4580>"
      ]
     },
     "execution_count": 17,
     "metadata": {},
     "output_type": "execute_result"
    },
    {
     "data": {
      "image/png": "[encoded data removed]",
      "text/plain": [
       "<Figure size 480x480 with 2 Axes>"
      ]
     },
     "metadata": {},
     "output_type": "display_data"
    }
   ],
   "source": [
    "fig = plt.matshow(np.dot(embeddings, embeddings.T))\n",
    "plt.colorbar()"
   ]
  },
  {
   "cell_type": "code",
   "execution_count": 23,
   "id": "c4c24368-e1cd-4ad6-a1c8-a7ab228c5df9",
   "metadata": {
    "tags": []
   },
   "outputs": [
    {
     "data": {
      "text/plain": [
       "(tensor([[0.6084]]), 0.6083548)"
      ]
     },
     "execution_count": 23,
     "metadata": {},
     "output_type": "execute_result"
    }
   ],
   "source": [
    "cos_sim(embeddings[3,:], embeddings[6,:]), np.dot(embeddings[3,:], embeddings[6,:])"
   ]
  },
  {
   "cell_type": "code",
   "execution_count": 32,
   "id": "7188fa1e-a42e-47f4-83f5-b993ff11854e",
   "metadata": {
    "tags": []
   },
   "outputs": [
    {
     "data": {
      "text/plain": [
       "[<matplotlib.lines.Line2D at 0x7fdacdd44e20>]"
      ]
     },
     "execution_count": 32,
     "metadata": {},
     "output_type": "execute_result"
    },
    {
     "data": {
      "image/png": "[encoded data removed]",
      "text/plain": [
       "<Figure size 1200x500 with 1 Axes>"
      ]
     },
     "metadata": {},
     "output_type": "display_data"
    }
   ],
   "source": [
    "fig, ax = plt.subplots(1,1,figsize=(12,5))\n",
    "ax.plot(embeddings.mean(axis=0), 'o')\n",
    "ax.plot(embeddings.min(axis=0), 'or')\n",
    "ax.plot(embeddings.max(axis=0), 'om')"
   ]
  },
  {
   "cell_type": "code",
   "execution_count": 37,
   "id": "9a9ecb5f-723f-43d4-8d28-0652a9b07995",
   "metadata": {
    "tags": []
   },
   "outputs": [
    {
     "data": {
      "text/plain": [
       "(-0.04089734, 7.5658056e-05, 0.04107123)"
      ]
     },
     "execution_count": 37,
     "metadata": {},
     "output_type": "execute_result"
    }
   ],
   "source": [
    "np.median(embeddings.min(axis=0)), np.median(embeddings.mean(axis=0)), np.median(embeddings.max(axis=0))"
   ]
  },
  {
   "cell_type": "code",
   "execution_count": null,
   "id": "120c05ce-125c-49b9-bd8f-133c2ade1149",
   "metadata": {},
   "outputs": [],
   "source": []
  }
 ],
 "metadata": {
  "kernelspec": {
   "display_name": "Python 3 (ipykernel)",
   "language": "python",
   "name": "python3"
  },
  "language_info": {
   "codemirror_mode": {
    "name": "ipython",
    "version": 3
   },
   "file_extension": ".py",
   "mimetype": "text/x-python",
   "name": "python",
   "nbconvert_exporter": "python",
   "pygments_lexer": "ipython3",
   "version": "3.10.8"
  }
 },
 "nbformat": 4,
 "nbformat_minor": 5
}
