{
 "cells": [
  {
   "cell_type": "code",
   "execution_count": 1,
   "id": "5ab1ed1b-bd18-4d4e-88af-c70a335ebbef",
   "metadata": {
    "tags": []
   },
   "outputs": [],
   "source": [
    "from langchain.llms import Anthropic"
   ]
  },
  {
   "cell_type": "code",
   "execution_count": 2,
   "id": "2d4a1c62-db9c-4173-b75c-ece40e349217",
   "metadata": {
    "tags": []
   },
   "outputs": [],
   "source": [
    "llm = Anthropic()"
   ]
  },
  {
   "cell_type": "code",
   "execution_count": 3,
   "id": "e51a2e64-3489-4b1d-88e2-b9d9065b0b9f",
   "metadata": {
    "tags": []
   },
   "outputs": [
    {
     "name": "stdout",
     "output_type": "stream",
     "text": [
      "\n",
      "- Sock It - play on words with “sock it to me”. Colorful, fun, energetic.\n",
      "\n",
      "- Happy Feet - evokes joyful, colorful footwear. Visual and memorable. \n",
      "\n",
      "- Foot Loose - play on “footloose” conveying fun, vibrant socks.\n",
      "\n",
      "- Bright Steps - combining “bright” with stepping out, walking. Positive and colorful.\n",
      "\n",
      "- Sole Colors - playing on “soul” and “sole” of your foot, with a splash of color. Visual pun.\n",
      "\n",
      "- Chroma Sock - using “chroma” which means color intensity or purity, paired with sock. Creative.\n",
      "\n",
      "- Prism Socks - a prism separates white light into a spectrum of colors. Visual and creative name.\n",
      "\n",
      "- KaleidoSocks - based on kaleidoscope, constantly changing patterns. Colorful, fun and whimsical.\n",
      "\n",
      "Does any of these give you some good ideas and inspiration? I aimed for names that are visual, creative, colorful and convey the fun and vibrant feel of the sock product. Let me know if you would like any additional options.\n"
     ]
    }
   ],
   "source": [
    "text = \"What would be a good company name for a company that makes colorful socks?\"\n",
    "print(llm(text))"
   ]
  },
  {
   "cell_type": "code",
   "execution_count": null,
   "id": "38e4165f-2d8c-4320-b10a-b8e7056ce4ef",
   "metadata": {},
   "outputs": [],
   "source": []
  }
 ],
 "metadata": {
  "kernelspec": {
   "display_name": "Python 3 (ipykernel)",
   "language": "python",
   "name": "python3"
  },
  "language_info": {
   "codemirror_mode": {
    "name": "ipython",
    "version": 3
   },
   "file_extension": ".py",
   "mimetype": "text/x-python",
   "name": "python",
   "nbconvert_exporter": "python",
   "pygments_lexer": "ipython3",
   "version": "3.11.3"
  }
 },
 "nbformat": 4,
 "nbformat_minor": 5
}
